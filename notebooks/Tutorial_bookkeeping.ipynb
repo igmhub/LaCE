{
 "cells": [
  {
   "cell_type": "markdown",
   "id": "80ebec1b",
   "metadata": {},
   "source": [
    "# Tutorial bookkeeping\n",
    "\n",
    "In this notebook, we explain how to use the LaCE bookkeeping"
   ]
  },
  {
   "cell_type": "markdown",
   "id": "6f744aa0",
   "metadata": {},
   "source": [
    "## Read data"
   ]
  },
  {
   "cell_type": "code",
   "execution_count": 48,
   "id": "876a8d18",
   "metadata": {},
   "outputs": [],
   "source": [
    "from lace.emulator import pd_archive"
   ]
  },
  {
   "cell_type": "markdown",
   "id": "6896d1ad",
   "metadata": {},
   "source": [
    "#### Read 768 post-processing with central simulation"
   ]
  },
  {
   "cell_type": "code",
   "execution_count": 2,
   "id": "1efaac7e",
   "metadata": {},
   "outputs": [
    {
     "data": {
      "text/plain": [
       "10230"
      ]
     },
     "execution_count": 2,
     "metadata": {},
     "output_type": "execute_result"
    }
   ],
   "source": [
    "archive = pd_archive.archivePD()\n",
    "len(archive.data)"
   ]
  },
  {
   "cell_type": "code",
   "execution_count": 4,
   "id": "6a78f694",
   "metadata": {},
   "outputs": [
    {
     "data": {
      "text/plain": [
       "10230"
      ]
     },
     "execution_count": 4,
     "metadata": {},
     "output_type": "execute_result"
    }
   ],
   "source": [
    "# nsim * nphases * naxes * nscalings * nsnaps\n",
    "31 * 2 * 3 * 5 * 11"
   ]
  },
  {
   "cell_type": "markdown",
   "id": "2c328771",
   "metadata": {},
   "source": [
    "#### Read 768 post-processing without central simulation"
   ]
  },
  {
   "cell_type": "code",
   "execution_count": 5,
   "id": "6d73b090",
   "metadata": {},
   "outputs": [
    {
     "data": {
      "text/plain": [
       "9900"
      ]
     },
     "execution_count": 5,
     "metadata": {},
     "output_type": "execute_result"
    }
   ],
   "source": [
    "archive = pd_archive.archivePD(drop_sim=\"central\")\n",
    "len(archive.data)"
   ]
  },
  {
   "cell_type": "markdown",
   "id": "0a13c6f4",
   "metadata": {},
   "source": [
    "or"
   ]
  },
  {
   "cell_type": "code",
   "execution_count": 38,
   "id": "022a275c",
   "metadata": {},
   "outputs": [
    {
     "data": {
      "text/plain": [
       "9900"
      ]
     },
     "execution_count": 38,
     "metadata": {},
     "output_type": "execute_result"
    }
   ],
   "source": [
    "archive = pd_archive.archivePD(nsamples=30)\n",
    "len(archive.data)"
   ]
  },
  {
   "cell_type": "code",
   "execution_count": 39,
   "id": "a420e32e",
   "metadata": {},
   "outputs": [
    {
     "data": {
      "text/plain": [
       "9900"
      ]
     },
     "execution_count": 39,
     "metadata": {},
     "output_type": "execute_result"
    }
   ],
   "source": [
    "# nsim * nphases * naxes * nscalings * nsnaps\n",
    "30 * 2 * 3 * 5 * 11"
   ]
  },
  {
   "cell_type": "markdown",
   "id": "9f1d0291",
   "metadata": {},
   "source": [
    "#### Read 768 post-processing dropping random simulation (but including central)"
   ]
  },
  {
   "cell_type": "code",
   "execution_count": 7,
   "id": "d166bd3a",
   "metadata": {},
   "outputs": [
    {
     "data": {
      "text/plain": [
       "9900"
      ]
     },
     "execution_count": 7,
     "metadata": {},
     "output_type": "execute_result"
    }
   ],
   "source": [
    "archive = pd_archive.archivePD(drop_sim=10)\n",
    "len(archive.data)"
   ]
  },
  {
   "cell_type": "code",
   "execution_count": 8,
   "id": "74d2074d",
   "metadata": {},
   "outputs": [
    {
     "data": {
      "text/plain": [
       "9900"
      ]
     },
     "execution_count": 8,
     "metadata": {},
     "output_type": "execute_result"
    }
   ],
   "source": [
    "# nsim * nphases * naxes * nscalings * nsnaps\n",
    "30 * 2 * 3 * 5 * 11"
   ]
  },
  {
   "cell_type": "markdown",
   "id": "b28ae830",
   "metadata": {},
   "source": [
    "#### Read 768 post-processing dropping random simulation (without including central)"
   ]
  },
  {
   "cell_type": "code",
   "execution_count": 36,
   "id": "4209acad",
   "metadata": {},
   "outputs": [
    {
     "data": {
      "text/plain": [
       "9570"
      ]
     },
     "execution_count": 36,
     "metadata": {},
     "output_type": "execute_result"
    }
   ],
   "source": [
    "archive = pd_archive.archivePD(drop_sim=10, nsamples=30)\n",
    "len(archive.data)"
   ]
  },
  {
   "cell_type": "code",
   "execution_count": 37,
   "id": "b315e00b",
   "metadata": {},
   "outputs": [
    {
     "data": {
      "text/plain": [
       "9570"
      ]
     },
     "execution_count": 37,
     "metadata": {},
     "output_type": "execute_result"
    }
   ],
   "source": [
    "# nsim * nphases * naxes * nscalings * nsnaps\n",
    "29 * 2 * 3 * 5 * 11"
   ]
  },
  {
   "cell_type": "markdown",
   "id": "129492c0",
   "metadata": {},
   "source": [
    "#### Read h simulation from 768 post-processing \n",
    "Also works for nu, central, or a number"
   ]
  },
  {
   "cell_type": "code",
   "execution_count": 14,
   "id": "664ddc1c",
   "metadata": {},
   "outputs": [
    {
     "data": {
      "text/plain": [
       "330"
      ]
     },
     "execution_count": 14,
     "metadata": {},
     "output_type": "execute_result"
    }
   ],
   "source": [
    "archive = pd_archive.archivePD(pick_sim=\"h\")\n",
    "len(archive.data)"
   ]
  },
  {
   "cell_type": "code",
   "execution_count": 15,
   "id": "ed44b24a",
   "metadata": {},
   "outputs": [
    {
     "data": {
      "text/plain": [
       "330"
      ]
     },
     "execution_count": 15,
     "metadata": {},
     "output_type": "execute_result"
    }
   ],
   "source": [
    "# nsim * nphases * naxes * nscalings * nsnaps\n",
    "1 * 2 * 3 * 5 * 11"
   ]
  },
  {
   "cell_type": "markdown",
   "id": "53e02fc3",
   "metadata": {},
   "source": [
    "#### Read 500 post-processing without central simulation"
   ]
  },
  {
   "cell_type": "code",
   "execution_count": 16,
   "id": "150c27bb",
   "metadata": {},
   "outputs": [
    {
     "data": {
      "text/plain": [
       "1980"
      ]
     },
     "execution_count": 16,
     "metadata": {},
     "output_type": "execute_result"
    }
   ],
   "source": [
    "archive = pd_archive.archivePD(post_processing=\"500\")\n",
    "len(archive.data)"
   ]
  },
  {
   "cell_type": "code",
   "execution_count": 17,
   "id": "14414114",
   "metadata": {},
   "outputs": [
    {
     "data": {
      "text/plain": [
       "1980"
      ]
     },
     "execution_count": 17,
     "metadata": {},
     "output_type": "execute_result"
    }
   ],
   "source": [
    "# nsim * nphases * naxes * nscalings * nsnaps\n",
    "30 * 2 * 1 * 3 * 11"
   ]
  },
  {
   "cell_type": "markdown",
   "id": "cf2a3feb",
   "metadata": {},
   "source": [
    "#### Read h simulation from 500 post-processing \n",
    "Also works for nu, central, or a number"
   ]
  },
  {
   "cell_type": "code",
   "execution_count": 19,
   "id": "8c0e3395",
   "metadata": {},
   "outputs": [
    {
     "data": {
      "text/plain": [
       "22"
      ]
     },
     "execution_count": 19,
     "metadata": {},
     "output_type": "execute_result"
    }
   ],
   "source": [
    "archive = pd_archive.archivePD(post_processing=\"500\", pick_sim=\"h\")\n",
    "len(archive.data)"
   ]
  },
  {
   "cell_type": "code",
   "execution_count": 21,
   "id": "55a56a3e",
   "metadata": {},
   "outputs": [
    {
     "data": {
      "text/plain": [
       "22"
      ]
     },
     "execution_count": 21,
     "metadata": {},
     "output_type": "execute_result"
    }
   ],
   "source": [
    "# nsim * nphases * naxes * nscalings * nsnaps\n",
    "1 * 2 * 1 * 1 * 11"
   ]
  },
  {
   "cell_type": "code",
   "execution_count": null,
   "id": "0864f092",
   "metadata": {},
   "outputs": [],
   "source": []
  },
  {
   "cell_type": "markdown",
   "id": "b5d4ccbf",
   "metadata": {},
   "source": [
    "## Compute averages"
   ]
  },
  {
   "cell_type": "markdown",
   "id": "df64d36f",
   "metadata": {},
   "source": [
    "#### Read 768 post-processing with central simulation, then compute different types of averages\n",
    "It also works for other options"
   ]
  },
  {
   "cell_type": "code",
   "execution_count": 22,
   "id": "9248653a",
   "metadata": {},
   "outputs": [
    {
     "data": {
      "text/plain": [
       "10230"
      ]
     },
     "execution_count": 22,
     "metadata": {},
     "output_type": "execute_result"
    }
   ],
   "source": [
    "archive = pd_archive.archivePD()\n",
    "len(archive.data)"
   ]
  },
  {
   "cell_type": "code",
   "execution_count": 25,
   "id": "4923c567",
   "metadata": {},
   "outputs": [
    {
     "data": {
      "text/plain": [
       "10230"
      ]
     },
     "execution_count": 25,
     "metadata": {},
     "output_type": "execute_result"
    }
   ],
   "source": [
    "# nsim * nphases * naxes * nscalings * nsnaps\n",
    "31 * 2 * 3 * 5 * 11"
   ]
  },
  {
   "cell_type": "code",
   "execution_count": 26,
   "id": "9f130120",
   "metadata": {},
   "outputs": [
    {
     "name": "stdout",
     "output_type": "stream",
     "text": [
      "5115 3410 1705\n"
     ]
    }
   ],
   "source": [
    "archive.average_over_samples(flag=\"all\")\n",
    "archive.average_over_samples(flag=\"phases\")\n",
    "archive.average_over_samples(flag=\"axes\")\n",
    "print(\n",
    "    len(archive.data_av_phases),\n",
    "    len(archive.data_av_axes),\n",
    "    len(archive.data_av_all),\n",
    ")"
   ]
  },
  {
   "cell_type": "code",
   "execution_count": 27,
   "id": "f1c73772",
   "metadata": {},
   "outputs": [
    {
     "name": "stdout",
     "output_type": "stream",
     "text": [
      "5115\n",
      "3410\n",
      "1705\n"
     ]
    }
   ],
   "source": [
    "# nsim * nphases * naxes * nscalings * nsnaps\n",
    "print(31 * 1 * 3 * 5 * 11)\n",
    "print(31 * 2 * 1 * 5 * 11)\n",
    "print(31 * 1 * 1 * 5 * 11)"
   ]
  },
  {
   "cell_type": "code",
   "execution_count": null,
   "id": "8f08b0a9",
   "metadata": {},
   "outputs": [],
   "source": []
  },
  {
   "cell_type": "markdown",
   "id": "92fbab91",
   "metadata": {},
   "source": [
    "## Inputs for emulator"
   ]
  },
  {
   "cell_type": "markdown",
   "id": "74212bb1",
   "metadata": {},
   "source": [
    "#### Read 768 post-processing with central simulation, then compute different types of averages, finally produce different types of input for emulator\n",
    "It also works for other options"
   ]
  },
  {
   "cell_type": "code",
   "execution_count": 22,
   "id": "b8cbd3c0",
   "metadata": {},
   "outputs": [
    {
     "data": {
      "text/plain": [
       "10230"
      ]
     },
     "execution_count": 22,
     "metadata": {},
     "output_type": "execute_result"
    }
   ],
   "source": [
    "archive = pd_archive.archivePD()\n",
    "len(archive.data)"
   ]
  },
  {
   "cell_type": "code",
   "execution_count": 25,
   "id": "5ab756c1",
   "metadata": {},
   "outputs": [
    {
     "data": {
      "text/plain": [
       "10230"
      ]
     },
     "execution_count": 25,
     "metadata": {},
     "output_type": "execute_result"
    }
   ],
   "source": [
    "# nsim * nphases * naxes * nscalings * nsnaps\n",
    "31 * 2 * 3 * 5 * 11"
   ]
  },
  {
   "cell_type": "code",
   "execution_count": 26,
   "id": "68392dea",
   "metadata": {},
   "outputs": [
    {
     "name": "stdout",
     "output_type": "stream",
     "text": [
      "5115 3410 1705\n"
     ]
    }
   ],
   "source": [
    "archive.average_over_samples(flag=\"all\")\n",
    "archive.average_over_samples(flag=\"phases\")\n",
    "archive.average_over_samples(flag=\"axes\")\n",
    "print(\n",
    "    len(archive.data_av_phases),\n",
    "    len(archive.data_av_axes),\n",
    "    len(archive.data_av_all),\n",
    ")"
   ]
  },
  {
   "cell_type": "code",
   "execution_count": 27,
   "id": "544e44d2",
   "metadata": {},
   "outputs": [
    {
     "name": "stdout",
     "output_type": "stream",
     "text": [
      "5115\n",
      "3410\n",
      "1705\n"
     ]
    }
   ],
   "source": [
    "# nsim * nphases * naxes * nscalings * nsnaps\n",
    "print(31 * 1 * 3 * 5 * 11)\n",
    "print(31 * 2 * 1 * 5 * 11)\n",
    "print(31 * 1 * 1 * 5 * 11)"
   ]
  },
  {
   "cell_type": "code",
   "execution_count": 28,
   "id": "90c904f7",
   "metadata": {},
   "outputs": [
    {
     "name": "stdout",
     "output_type": "stream",
     "text": [
      "11935 6820 5115\n"
     ]
    }
   ],
   "source": [
    "archive.input_emulator(flag=\"all\")\n",
    "archive.input_emulator(flag=\"phases\")\n",
    "archive.input_emulator(flag=\"axes\")\n",
    "print(\n",
    "    len(archive.data_input_all),\n",
    "    len(archive.data_input_phases),\n",
    "    len(archive.data_input_axes),\n",
    ")"
   ]
  },
  {
   "cell_type": "code",
   "execution_count": 35,
   "id": "ea1106d6",
   "metadata": {},
   "outputs": [
    {
     "name": "stdout",
     "output_type": "stream",
     "text": [
      "11935\n",
      "6820\n",
      "5115\n"
     ]
    }
   ],
   "source": [
    "# nsim * nphases * naxes * nscalings * nsnaps\n",
    "# invidual + average all\n",
    "print(31 * 2 * 3 * 5 * 11 + 31 * 1 * 1 * 5 * 11)\n",
    "# average phases + average all\n",
    "print(31 * 1 * 3 * 5 * 11 + 31 * 1 * 1 * 5 * 11)\n",
    "# average axes + average all\n",
    "print(31 * 2 * 1 * 5 * 11 + 31 * 1 * 1 * 5 * 11)"
   ]
  },
  {
   "cell_type": "code",
   "execution_count": null,
   "id": "7ad892be",
   "metadata": {},
   "outputs": [],
   "source": []
  },
  {
   "cell_type": "markdown",
   "id": "de4adc99",
   "metadata": {},
   "source": [
    "## Understanding the data"
   ]
  },
  {
   "cell_type": "code",
   "execution_count": 49,
   "id": "6da3b3ff",
   "metadata": {},
   "outputs": [],
   "source": [
    "import numpy as np"
   ]
  },
  {
   "cell_type": "markdown",
   "id": "eaf29c5c",
   "metadata": {},
   "source": [
    "#### Read 768 post-processing with central simulation\n",
    "It also works for other options"
   ]
  },
  {
   "cell_type": "code",
   "execution_count": 42,
   "id": "901a8653",
   "metadata": {},
   "outputs": [
    {
     "data": {
      "text/plain": [
       "10230"
      ]
     },
     "execution_count": 42,
     "metadata": {},
     "output_type": "execute_result"
    }
   ],
   "source": [
    "archive = pd_archive.archivePD()\n",
    "len(archive.data)"
   ]
  },
  {
   "cell_type": "code",
   "execution_count": 55,
   "id": "3391f167",
   "metadata": {},
   "outputs": [
    {
     "data": {
      "text/plain": [
       "330"
      ]
     },
     "execution_count": 55,
     "metadata": {},
     "output_type": "execute_result"
    }
   ],
   "source": [
    "# nsim * nphases * naxes * nscalings * nsnaps\n",
    "1 * 2 * 3 * 5 * 11"
   ]
  },
  {
   "cell_type": "markdown",
   "id": "57e19804",
   "metadata": {},
   "source": [
    "Simulation index"
   ]
  },
  {
   "cell_type": "code",
   "execution_count": 56,
   "id": "f5d6cd0c",
   "metadata": {},
   "outputs": [
    {
     "name": "stdout",
     "output_type": "stream",
     "text": [
      "[0. 0. 0. 0. 0. 0. 0. 0. 0. 0. 0. 0. 0. 0. 0. 0. 0. 0. 0. 0. 0. 0. 0. 0.\n",
      " 0. 0. 0. 0. 0. 0. 0. 0. 0. 0. 0. 0. 0. 0. 0. 0. 0. 0. 0. 0. 0. 0. 0. 0.\n",
      " 0. 0. 0. 0. 0. 0. 0. 0. 0. 0. 0. 0. 0. 0. 0. 0. 0. 0. 0. 0. 0. 0. 0. 0.\n",
      " 0. 0. 0. 0. 0. 0. 0. 0. 0. 0. 0. 0. 0. 0. 0. 0. 0. 0. 0. 0. 0. 0. 0. 0.\n",
      " 0. 0. 0. 0. 0. 0. 0. 0. 0. 0. 0. 0. 0. 0. 0. 0. 0. 0. 0. 0. 0. 0. 0. 0.\n",
      " 0. 0. 0. 0. 0. 0. 0. 0. 0. 0. 0. 0. 0. 0. 0. 0. 0. 0. 0. 0. 0. 0. 0. 0.\n",
      " 0. 0. 0. 0. 0. 0. 0. 0. 0. 0. 0. 0. 0. 0. 0. 0. 0. 0. 0. 0. 0. 0. 0. 0.\n",
      " 0. 0. 0. 0. 0. 0. 0. 0. 0. 0. 0. 0. 0. 0. 0. 0. 0. 0. 0. 0. 0. 0. 0. 0.\n",
      " 0. 0. 0. 0. 0. 0. 0. 0. 0. 0. 0. 0. 0. 0. 0. 0. 0. 0. 0. 0. 0. 0. 0. 0.\n",
      " 0. 0. 0. 0. 0. 0. 0. 0. 0. 0. 0. 0. 0. 0. 0. 0. 0. 0. 0. 0. 0. 0. 0. 0.\n",
      " 0. 0. 0. 0. 0. 0. 0. 0. 0. 0. 0. 0. 0. 0. 0. 0. 0. 0. 0. 0. 0. 0. 0. 0.\n",
      " 0. 0. 0. 0. 0. 0. 0. 0. 0. 0. 0. 0. 0. 0. 0. 0. 0. 0. 0. 0. 0. 0. 0. 0.\n",
      " 0. 0. 0. 0. 0. 0. 0. 0. 0. 0. 0. 0. 0. 0. 0. 0. 0. 0. 0. 0. 0. 0. 0. 0.\n",
      " 0. 0. 0. 0. 0. 0. 0. 0. 0. 0. 0. 0. 0. 0. 0. 0. 0. 0. 1.]\n",
      "[ 0.  1.  2.  3.  4.  5.  6.  7.  8.  9. 10. 11. 12. 13. 14. 15. 16. 17.\n",
      " 18. 19. 20. 21. 22. 23. 24. 25. 26. 27. 28. 29. 30.]\n"
     ]
    }
   ],
   "source": [
    "print(archive.ind_sim[:331])\n",
    "print(np.unique(archive.ind_sim))"
   ]
  },
  {
   "cell_type": "markdown",
   "id": "9a35b7c1",
   "metadata": {},
   "source": [
    "Phase index"
   ]
  },
  {
   "cell_type": "code",
   "execution_count": 57,
   "id": "63691240",
   "metadata": {},
   "outputs": [
    {
     "name": "stdout",
     "output_type": "stream",
     "text": [
      "[0. 0. 0. 1. 1. 1. 0. 0. 1. 1. 0. 0. 0. 1. 1. 1. 0. 0. 1. 1. 0. 0. 0. 1.\n",
      " 1. 1. 0. 0. 1. 1. 0. 0. 0. 1. 1. 1. 0. 0. 1. 1. 0. 0. 0. 1. 1. 1. 0. 0.\n",
      " 1. 1. 0. 0. 0. 1. 1. 1. 0. 0. 1. 1. 0. 0. 0. 1. 1. 1. 0. 0. 1. 1. 0. 0.\n",
      " 0. 1. 1. 1. 0. 0. 1. 1. 0. 0. 0. 1. 1. 1. 0. 0. 1. 1. 0. 0. 0. 1. 1. 1.\n",
      " 0. 0. 1. 1. 0. 0. 0. 1. 1. 1. 0. 0. 1. 1. 0. 0. 0. 1. 1. 1. 0. 0. 1. 1.\n",
      " 0. 0. 0. 1. 1. 1. 0. 0. 1. 1. 0. 0. 0. 1. 1. 1. 0. 0. 1. 1. 0. 0. 0. 1.\n",
      " 1. 1. 0. 0. 1. 1. 0. 0. 0. 1. 1. 1. 0. 0. 1. 1. 0. 0. 0. 1. 1. 1. 0. 0.\n",
      " 1. 1. 0. 0. 0. 1. 1. 1. 0. 0. 1. 1. 0. 0. 0. 1. 1. 1. 0. 0. 1. 1. 0. 0.\n",
      " 0. 1. 1. 1. 0. 0. 1. 1. 0. 0. 0. 1. 1. 1. 0. 0. 1. 1. 0. 0. 0. 1. 1. 1.\n",
      " 0. 0. 1. 1. 0. 0. 0. 1. 1. 1. 0. 0. 1. 1. 0. 0. 0. 1. 1. 1. 0. 0. 1. 1.\n",
      " 0. 0. 0. 1. 1. 1. 0. 0. 1. 1. 0. 0. 0. 1. 1. 1. 0. 0. 1. 1. 0. 0. 0. 1.\n",
      " 1. 1. 0. 0. 1. 1. 0. 0. 0. 1. 1. 1. 0. 0. 1. 1. 0. 0. 0. 1. 1. 1. 0. 0.\n",
      " 1. 1. 0. 0. 0. 1. 1. 1. 0. 0. 1. 1. 0. 0. 0. 1. 1. 1. 0. 0. 1. 1. 0. 0.\n",
      " 0. 1. 1. 1. 0. 0. 1. 1. 0. 0. 0. 1. 1. 1. 0. 0. 1. 1. 0.]\n",
      "[0. 1.]\n"
     ]
    }
   ],
   "source": [
    "print(archive.ind_phase[:331])\n",
    "print(np.unique(archive.ind_phase))"
   ]
  },
  {
   "cell_type": "markdown",
   "id": "518a6147",
   "metadata": {},
   "source": [
    "Axis index"
   ]
  },
  {
   "cell_type": "code",
   "execution_count": 58,
   "id": "067e013f",
   "metadata": {},
   "outputs": [
    {
     "name": "stdout",
     "output_type": "stream",
     "text": [
      "[0. 0. 0. 0. 0. 0. 0. 0. 0. 0. 1. 1. 1. 1. 1. 1. 1. 1. 1. 1. 2. 2. 2. 2.\n",
      " 2. 2. 2. 2. 2. 2. 0. 0. 0. 0. 0. 0. 0. 0. 0. 0. 1. 1. 1. 1. 1. 1. 1. 1.\n",
      " 1. 1. 2. 2. 2. 2. 2. 2. 2. 2. 2. 2. 0. 0. 0. 0. 0. 0. 0. 0. 0. 0. 1. 1.\n",
      " 1. 1. 1. 1. 1. 1. 1. 1. 2. 2. 2. 2. 2. 2. 2. 2. 2. 2. 0. 0. 0. 0. 0. 0.\n",
      " 0. 0. 0. 0. 1. 1. 1. 1. 1. 1. 1. 1. 1. 1. 2. 2. 2. 2. 2. 2. 2. 2. 2. 2.\n",
      " 0. 0. 0. 0. 0. 0. 0. 0. 0. 0. 1. 1. 1. 1. 1. 1. 1. 1. 1. 1. 2. 2. 2. 2.\n",
      " 2. 2. 2. 2. 2. 2. 0. 0. 0. 0. 0. 0. 0. 0. 0. 0. 1. 1. 1. 1. 1. 1. 1. 1.\n",
      " 1. 1. 2. 2. 2. 2. 2. 2. 2. 2. 2. 2. 0. 0. 0. 0. 0. 0. 0. 0. 0. 0. 1. 1.\n",
      " 1. 1. 1. 1. 1. 1. 1. 1. 2. 2. 2. 2. 2. 2. 2. 2. 2. 2. 0. 0. 0. 0. 0. 0.\n",
      " 0. 0. 0. 0. 1. 1. 1. 1. 1. 1. 1. 1. 1. 1. 2. 2. 2. 2. 2. 2. 2. 2. 2. 2.\n",
      " 0. 0. 0. 0. 0. 0. 0. 0. 0. 0. 1. 1. 1. 1. 1. 1. 1. 1. 1. 1. 2. 2. 2. 2.\n",
      " 2. 2. 2. 2. 2. 2. 0. 0. 0. 0. 0. 0. 0. 0. 0. 0. 1. 1. 1. 1. 1. 1. 1. 1.\n",
      " 1. 1. 2. 2. 2. 2. 2. 2. 2. 2. 2. 2. 0. 0. 0. 0. 0. 0. 0. 0. 0. 0. 1. 1.\n",
      " 1. 1. 1. 1. 1. 1. 1. 1. 2. 2. 2. 2. 2. 2. 2. 2. 2. 2. 0.]\n",
      "[0. 1. 2.]\n"
     ]
    }
   ],
   "source": [
    "print(archive.ind_axis[:331])\n",
    "print(np.unique(archive.ind_axis))"
   ]
  },
  {
   "cell_type": "markdown",
   "id": "7a78e4d9",
   "metadata": {},
   "source": [
    "Scaling index"
   ]
  },
  {
   "cell_type": "code",
   "execution_count": 59,
   "id": "b718d7eb",
   "metadata": {},
   "outputs": [
    {
     "name": "stdout",
     "output_type": "stream",
     "text": [
      "[0. 1. 2. 0. 1. 2. 3. 4. 3. 4. 0. 1. 2. 0. 1. 2. 3. 4. 3. 4. 0. 1. 2. 0.\n",
      " 1. 2. 3. 4. 3. 4. 0. 1. 2. 0. 1. 2. 3. 4. 3. 4. 0. 1. 2. 0. 1. 2. 3. 4.\n",
      " 3. 4. 0. 1. 2. 0. 1. 2. 3. 4. 3. 4. 0. 1. 2. 0. 1. 2. 3. 4. 3. 4. 0. 1.\n",
      " 2. 0. 1. 2. 3. 4. 3. 4. 0. 1. 2. 0. 1. 2. 3. 4. 3. 4. 0. 1. 2. 0. 1. 2.\n",
      " 3. 4. 3. 4. 0. 1. 2. 0. 1. 2. 3. 4. 3. 4. 0. 1. 2. 0. 1. 2. 3. 4. 3. 4.\n",
      " 0. 1. 2. 0. 1. 2. 3. 4. 3. 4. 0. 1. 2. 0. 1. 2. 3. 4. 3. 4. 0. 1. 2. 0.\n",
      " 1. 2. 3. 4. 3. 4. 0. 1. 2. 0. 1. 2. 3. 4. 3. 4. 0. 1. 2. 0. 1. 2. 3. 4.\n",
      " 3. 4. 0. 1. 2. 0. 1. 2. 3. 4. 3. 4. 0. 1. 2. 0. 1. 2. 3. 4. 3. 4. 0. 1.\n",
      " 2. 0. 1. 2. 3. 4. 3. 4. 0. 1. 2. 0. 1. 2. 3. 4. 3. 4. 0. 1. 2. 0. 1. 2.\n",
      " 3. 4. 3. 4. 0. 1. 2. 0. 1. 2. 3. 4. 3. 4. 0. 1. 2. 0. 1. 2. 3. 4. 3. 4.\n",
      " 0. 1. 2. 0. 1. 2. 3. 4. 3. 4. 0. 1. 2. 0. 1. 2. 3. 4. 3. 4. 0. 1. 2. 0.\n",
      " 1. 2. 3. 4. 3. 4. 0. 1. 2. 0. 1. 2. 3. 4. 3. 4. 0. 1. 2. 0. 1. 2. 3. 4.\n",
      " 3. 4. 0. 1. 2. 0. 1. 2. 3. 4. 3. 4. 0. 1. 2. 0. 1. 2. 3. 4. 3. 4. 0. 1.\n",
      " 2. 0. 1. 2. 3. 4. 3. 4. 0. 1. 2. 0. 1. 2. 3. 4. 3. 4. 0.]\n",
      "[0. 1. 2. 3. 4.]\n"
     ]
    }
   ],
   "source": [
    "print(archive.ind_tau[:331])\n",
    "print(np.unique(archive.ind_tau))"
   ]
  },
  {
   "cell_type": "markdown",
   "id": "c1945221",
   "metadata": {},
   "source": [
    "Snapshot index"
   ]
  },
  {
   "cell_type": "code",
   "execution_count": 60,
   "id": "540b81cf",
   "metadata": {},
   "outputs": [
    {
     "name": "stdout",
     "output_type": "stream",
     "text": [
      "[ 0.  0.  0.  0.  0.  0.  0.  0.  0.  0.  0.  0.  0.  0.  0.  0.  0.  0.\n",
      "  0.  0.  0.  0.  0.  0.  0.  0.  0.  0.  0.  0.  1.  1.  1.  1.  1.  1.\n",
      "  1.  1.  1.  1.  1.  1.  1.  1.  1.  1.  1.  1.  1.  1.  1.  1.  1.  1.\n",
      "  1.  1.  1.  1.  1.  1.  2.  2.  2.  2.  2.  2.  2.  2.  2.  2.  2.  2.\n",
      "  2.  2.  2.  2.  2.  2.  2.  2.  2.  2.  2.  2.  2.  2.  2.  2.  2.  2.\n",
      "  3.  3.  3.  3.  3.  3.  3.  3.  3.  3.  3.  3.  3.  3.  3.  3.  3.  3.\n",
      "  3.  3.  3.  3.  3.  3.  3.  3.  3.  3.  3.  3.  4.  4.  4.  4.  4.  4.\n",
      "  4.  4.  4.  4.  4.  4.  4.  4.  4.  4.  4.  4.  4.  4.  4.  4.  4.  4.\n",
      "  4.  4.  4.  4.  4.  4.  5.  5.  5.  5.  5.  5.  5.  5.  5.  5.  5.  5.\n",
      "  5.  5.  5.  5.  5.  5.  5.  5.  5.  5.  5.  5.  5.  5.  5.  5.  5.  5.\n",
      "  6.  6.  6.  6.  6.  6.  6.  6.  6.  6.  6.  6.  6.  6.  6.  6.  6.  6.\n",
      "  6.  6.  6.  6.  6.  6.  6.  6.  6.  6.  6.  6.  7.  7.  7.  7.  7.  7.\n",
      "  7.  7.  7.  7.  7.  7.  7.  7.  7.  7.  7.  7.  7.  7.  7.  7.  7.  7.\n",
      "  7.  7.  7.  7.  7.  7.  8.  8.  8.  8.  8.  8.  8.  8.  8.  8.  8.  8.\n",
      "  8.  8.  8.  8.  8.  8.  8.  8.  8.  8.  8.  8.  8.  8.  8.  8.  8.  8.\n",
      "  9.  9.  9.  9.  9.  9.  9.  9.  9.  9.  9.  9.  9.  9.  9.  9.  9.  9.\n",
      "  9.  9.  9.  9.  9.  9.  9.  9.  9.  9.  9.  9. 10. 10. 10. 10. 10. 10.\n",
      " 10. 10. 10. 10. 10. 10. 10. 10. 10. 10. 10. 10. 10. 10. 10. 10. 10. 10.\n",
      " 10. 10. 10. 10. 10. 10.  0.]\n",
      "[ 0.  1.  2.  3.  4.  5.  6.  7.  8.  9. 10.]\n"
     ]
    }
   ],
   "source": [
    "print(archive.ind_z[:331])\n",
    "print(np.unique(archive.ind_z))"
   ]
  },
  {
   "cell_type": "code",
   "execution_count": null,
   "id": "273dc3ed",
   "metadata": {},
   "outputs": [],
   "source": []
  },
  {
   "cell_type": "code",
   "execution_count": null,
   "id": "2dd1c71e",
   "metadata": {},
   "outputs": [],
   "source": []
  },
  {
   "cell_type": "code",
   "execution_count": null,
   "id": "051262a8",
   "metadata": {},
   "outputs": [],
   "source": []
  }
 ],
 "metadata": {
  "kernelspec": {
   "display_name": "Python 3 (ipykernel)",
   "language": "python",
   "name": "python3"
  },
  "language_info": {
   "codemirror_mode": {
    "name": "ipython",
    "version": 3
   },
   "file_extension": ".py",
   "mimetype": "text/x-python",
   "name": "python",
   "nbconvert_exporter": "python",
   "pygments_lexer": "ipython3",
   "version": "3.9.13"
  }
 },
 "nbformat": 4,
 "nbformat_minor": 5
}

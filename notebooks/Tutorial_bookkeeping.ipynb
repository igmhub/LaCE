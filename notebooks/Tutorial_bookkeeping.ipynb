{
 "cells": [
  {
   "cell_type": "markdown",
   "id": "80ebec1b",
   "metadata": {},
   "source": [
    "# Tutorial bookkeeping\n",
    "\n",
    "In this notebook, we explain how to use the LaCE bookkeeping"
   ]
  },
  {
   "cell_type": "markdown",
   "id": "f8a1fb32",
   "metadata": {},
   "source": [
    "## Read data"
   ]
  },
  {
   "cell_type": "code",
   "execution_count": null,
   "id": "e0acc7e9",
   "metadata": {},
   "outputs": [],
   "source": [
    "from lace.emulator import pd_archive"
   ]
  },
  {
   "cell_type": "markdown",
   "id": "278b81fe",
   "metadata": {},
   "source": [
    "#### Read 768 post-processing with central simulation"
   ]
  },
  {
   "cell_type": "code",
   "execution_count": 2,
   "id": "74a780ac",
   "metadata": {},
   "outputs": [
    {
     "data": {
      "text/plain": [
       "10230"
      ]
     },
     "execution_count": 2,
     "metadata": {},
     "output_type": "execute_result"
    }
   ],
   "source": [
    "archive = pd_archive.archivePD()\n",
    "len(archive.data)"
   ]
  },
  {
   "cell_type": "code",
   "execution_count": 4,
   "id": "995265f4",
   "metadata": {},
   "outputs": [
    {
     "data": {
      "text/plain": [
       "10230"
      ]
     },
     "execution_count": 4,
     "metadata": {},
     "output_type": "execute_result"
    }
   ],
   "source": [
    "# nsim * nphases * naxes * nscalings * nsnaps\n",
    "31 * 2 * 3 * 5 * 11"
   ]
  },
  {
   "cell_type": "markdown",
   "id": "df1162be",
   "metadata": {},
   "source": [
    "#### Read 768 post-processing without central simulation"
   ]
  },
  {
   "cell_type": "code",
   "execution_count": 5,
   "id": "d19a61a2",
   "metadata": {},
   "outputs": [
    {
     "data": {
      "text/plain": [
       "9900"
      ]
     },
     "execution_count": 5,
     "metadata": {},
     "output_type": "execute_result"
    }
   ],
   "source": [
    "archive = pd_archive.archivePD(drop_sim=\"central\")\n",
    "len(archive.data)"
   ]
  },
  {
   "cell_type": "code",
   "execution_count": 6,
   "id": "05b1b911",
   "metadata": {},
   "outputs": [
    {
     "data": {
      "text/plain": [
       "9900"
      ]
     },
     "execution_count": 6,
     "metadata": {},
     "output_type": "execute_result"
    }
   ],
   "source": [
    "# nsim * nphases * naxes * nscalings * nsnaps\n",
    "30 * 2 * 3 * 5 * 11"
   ]
  },
  {
   "cell_type": "markdown",
   "id": "01e771d6",
   "metadata": {},
   "source": [
    "#### Read 768 post-processing dropping random simulation (but including central)"
   ]
  },
  {
   "cell_type": "code",
   "execution_count": 7,
   "id": "da3701fc",
   "metadata": {},
   "outputs": [
    {
     "data": {
      "text/plain": [
       "9900"
      ]
     },
     "execution_count": 7,
     "metadata": {},
     "output_type": "execute_result"
    }
   ],
   "source": [
    "archive = pd_archive.archivePD(drop_sim=10)\n",
    "len(archive.data)"
   ]
  },
  {
   "cell_type": "code",
   "execution_count": 8,
   "id": "c827ee0f",
   "metadata": {},
   "outputs": [
    {
     "data": {
      "text/plain": [
       "9900"
      ]
     },
     "execution_count": 8,
     "metadata": {},
     "output_type": "execute_result"
    }
   ],
   "source": [
    "# nsim * nphases * naxes * nscalings * nsnaps\n",
    "30 * 2 * 3 * 5 * 11"
   ]
  },
  {
   "cell_type": "markdown",
   "id": "8a6ed4bd",
   "metadata": {},
   "source": [
    "#### Read h simulation from 768 post-processing \n",
    "Also works for nu, central, or a number"
   ]
  },
  {
   "cell_type": "code",
   "execution_count": 14,
   "id": "cc2e4646",
   "metadata": {},
   "outputs": [
    {
     "data": {
      "text/plain": [
       "330"
      ]
     },
     "execution_count": 14,
     "metadata": {},
     "output_type": "execute_result"
    }
   ],
   "source": [
    "archive = pd_archive.archivePD(pick_sim=\"h\")\n",
    "len(archive.data)"
   ]
  },
  {
   "cell_type": "code",
   "execution_count": 15,
   "id": "f9e6d572",
   "metadata": {},
   "outputs": [
    {
     "data": {
      "text/plain": [
       "330"
      ]
     },
     "execution_count": 15,
     "metadata": {},
     "output_type": "execute_result"
    }
   ],
   "source": [
    "# nsim * nphases * naxes * nscalings * nsnaps\n",
    "1 * 2 * 3 * 5 * 11"
   ]
  },
  {
   "cell_type": "markdown",
   "id": "cc547de5",
   "metadata": {},
   "source": [
    "#### Read 500 post-processing without central simulation"
   ]
  },
  {
   "cell_type": "code",
   "execution_count": 16,
   "id": "96bfb31d",
   "metadata": {},
   "outputs": [
    {
     "data": {
      "text/plain": [
       "1980"
      ]
     },
     "execution_count": 16,
     "metadata": {},
     "output_type": "execute_result"
    }
   ],
   "source": [
    "archive = pd_archive.archivePD(post_processing=\"500\")\n",
    "len(archive.data)"
   ]
  },
  {
   "cell_type": "code",
   "execution_count": 17,
   "id": "0a89c0fb",
   "metadata": {},
   "outputs": [
    {
     "data": {
      "text/plain": [
       "1980"
      ]
     },
     "execution_count": 17,
     "metadata": {},
     "output_type": "execute_result"
    }
   ],
   "source": [
    "# nsim * nphases * naxes * nscalings * nsnaps\n",
    "30 * 2 * 1 * 3 * 11"
   ]
  },
  {
   "cell_type": "markdown",
   "id": "5f7f25f6",
   "metadata": {},
   "source": [
    "#### Read h simulation from 500 post-processing \n",
    "Also works for nu, central, or a number"
   ]
  },
  {
   "cell_type": "code",
   "execution_count": 19,
   "id": "8c0e3395",
   "metadata": {},
   "outputs": [
    {
     "data": {
      "text/plain": [
       "22"
      ]
     },
     "execution_count": 19,
     "metadata": {},
     "output_type": "execute_result"
    }
   ],
   "source": [
    "archive = pd_archive.archivePD(post_processing=\"500\", pick_sim=\"h\")\n",
    "len(archive.data)"
   ]
  },
  {
   "cell_type": "code",
   "execution_count": 21,
   "id": "6862a01c",
   "metadata": {},
   "outputs": [
    {
     "data": {
      "text/plain": [
       "22"
      ]
     },
     "execution_count": 21,
     "metadata": {},
     "output_type": "execute_result"
    }
   ],
   "source": [
    "# nsim * nphases * naxes * nscalings * nsnaps\n",
    "1 * 2 * 1 * 1 * 11"
   ]
  },
  {
   "cell_type": "code",
   "execution_count": null,
   "id": "ae35d01e",
   "metadata": {},
   "outputs": [],
   "source": []
  },
  {
   "cell_type": "markdown",
   "id": "fb4e5404",
   "metadata": {},
   "source": [
    "## Compute averages"
   ]
  },
  {
   "cell_type": "markdown",
   "id": "79ea35a4",
   "metadata": {},
   "source": [
    "#### Read 768 post-processing with central simulation, then compute different types of averages\n",
    "It also works for other options"
   ]
  },
  {
   "cell_type": "code",
   "execution_count": 22,
   "id": "22cc9342",
   "metadata": {},
   "outputs": [
    {
     "data": {
      "text/plain": [
       "10230"
      ]
     },
     "execution_count": 22,
     "metadata": {},
     "output_type": "execute_result"
    }
   ],
   "source": [
    "archive = pd_archive.archivePD()\n",
    "len(archive.data)"
   ]
  },
  {
   "cell_type": "code",
   "execution_count": 25,
   "id": "74d821b7",
   "metadata": {},
   "outputs": [
    {
     "data": {
      "text/plain": [
       "10230"
      ]
     },
     "execution_count": 25,
     "metadata": {},
     "output_type": "execute_result"
    }
   ],
   "source": [
    "# nsim * nphases * naxes * nscalings * nsnaps\n",
    "31 * 2 * 3 * 5 * 11"
   ]
  },
  {
   "cell_type": "code",
   "execution_count": 26,
   "id": "9f130120",
   "metadata": {},
   "outputs": [
    {
     "name": "stdout",
     "output_type": "stream",
     "text": [
      "5115 3410 1705\n"
     ]
    }
   ],
   "source": [
    "archive.average_over_samples(flag=\"all\")\n",
    "archive.average_over_samples(flag=\"phases\")\n",
    "archive.average_over_samples(flag=\"axes\")\n",
    "print(\n",
    "    len(archive.data_av_phases),\n",
    "    len(archive.data_av_axes),\n",
    "    len(archive.data_av_all),\n",
    ")"
   ]
  },
  {
   "cell_type": "code",
   "execution_count": 27,
   "id": "d0b849b6",
   "metadata": {},
   "outputs": [
    {
     "name": "stdout",
     "output_type": "stream",
     "text": [
      "5115\n",
      "3410\n",
      "1705\n"
     ]
    }
   ],
   "source": [
    "# nsim * nphases * naxes * nscalings * nsnaps\n",
    "print(31 * 1 * 3 * 5 * 11)\n",
    "print(31 * 2 * 1 * 5 * 11)\n",
    "print(31 * 1 * 1 * 5 * 11)"
   ]
  },
  {
   "cell_type": "code",
   "execution_count": null,
   "id": "a23bb790",
   "metadata": {},
   "outputs": [],
   "source": []
  },
  {
   "cell_type": "markdown",
   "id": "92fbab91",
   "metadata": {},
   "source": [
    "## Inputs for emulator"
   ]
  },
  {
   "cell_type": "markdown",
   "id": "dfbfae72",
   "metadata": {},
   "source": [
    "#### Read 768 post-processing with central simulation, then compute different types of averages, finally produce different types of input for emulator\n",
    "It also works for other options"
   ]
  },
  {
   "cell_type": "code",
   "execution_count": 22,
   "id": "dbd3af28",
   "metadata": {},
   "outputs": [
    {
     "data": {
      "text/plain": [
       "10230"
      ]
     },
     "execution_count": 22,
     "metadata": {},
     "output_type": "execute_result"
    }
   ],
   "source": [
    "archive = pd_archive.archivePD()\n",
    "len(archive.data)"
   ]
  },
  {
   "cell_type": "code",
   "execution_count": 25,
   "id": "53de10ed",
   "metadata": {},
   "outputs": [
    {
     "data": {
      "text/plain": [
       "10230"
      ]
     },
     "execution_count": 25,
     "metadata": {},
     "output_type": "execute_result"
    }
   ],
   "source": [
    "# nsim * nphases * naxes * nscalings * nsnaps\n",
    "31 * 2 * 3 * 5 * 11"
   ]
  },
  {
   "cell_type": "code",
   "execution_count": 26,
   "id": "378f04b7",
   "metadata": {},
   "outputs": [
    {
     "name": "stdout",
     "output_type": "stream",
     "text": [
      "5115 3410 1705\n"
     ]
    }
   ],
   "source": [
    "archive.average_over_samples(flag=\"all\")\n",
    "archive.average_over_samples(flag=\"phases\")\n",
    "archive.average_over_samples(flag=\"axes\")\n",
    "print(\n",
    "    len(archive.data_av_phases),\n",
    "    len(archive.data_av_axes),\n",
    "    len(archive.data_av_all),\n",
    ")"
   ]
  },
  {
   "cell_type": "code",
   "execution_count": 27,
   "id": "8e214516",
   "metadata": {},
   "outputs": [
    {
     "name": "stdout",
     "output_type": "stream",
     "text": [
      "5115\n",
      "3410\n",
      "1705\n"
     ]
    }
   ],
   "source": [
    "# nsim * nphases * naxes * nscalings * nsnaps\n",
    "print(31 * 1 * 3 * 5 * 11)\n",
    "print(31 * 2 * 1 * 5 * 11)\n",
    "print(31 * 1 * 1 * 5 * 11)"
   ]
  },
  {
   "cell_type": "code",
   "execution_count": 28,
   "id": "90c904f7",
   "metadata": {},
   "outputs": [
    {
     "name": "stdout",
     "output_type": "stream",
     "text": [
      "11935 6820 5115\n"
     ]
    }
   ],
   "source": [
    "archive.input_emulator(flag=\"all\")\n",
    "archive.input_emulator(flag=\"phases\")\n",
    "archive.input_emulator(flag=\"axes\")\n",
    "print(\n",
    "    len(archive.data_input_all),\n",
    "    len(archive.data_input_phases),\n",
    "    len(archive.data_input_axes),\n",
    ")"
   ]
  },
  {
   "cell_type": "code",
   "execution_count": 35,
   "id": "ea1106d6",
   "metadata": {},
   "outputs": [
    {
     "name": "stdout",
     "output_type": "stream",
     "text": [
      "11935\n",
      "6820\n",
      "5115\n"
     ]
    }
   ],
   "source": [
    "# nsim * nphases * naxes * nscalings * nsnaps\n",
    "# invidual + average all\n",
    "print(31 * 2 * 3 * 5 * 11 + 31 * 1 * 1 * 5 * 11)\n",
    "# average phases + average all\n",
    "print(31 * 1 * 3 * 5 * 11 + 31 * 1 * 1 * 5 * 11)\n",
    "# average axes + average all\n",
    "print(31 * 2 * 1 * 5 * 11 + 31 * 1 * 1 * 5 * 11)"
   ]
  },
  {
   "cell_type": "code",
   "execution_count": null,
   "id": "f5d6cd0c",
   "metadata": {},
   "outputs": [],
   "source": []
  }
 ],
 "metadata": {
  "kernelspec": {
   "display_name": "Python 3 (ipykernel)",
   "language": "python",
   "name": "python3"
  },
  "language_info": {
   "codemirror_mode": {
    "name": "ipython",
    "version": 3
   },
   "file_extension": ".py",
   "mimetype": "text/x-python",
   "name": "python",
   "nbconvert_exporter": "python",
   "pygments_lexer": "ipython3",
   "version": "3.9.13"
  }
 },
 "nbformat": 4,
 "nbformat_minor": 5
}

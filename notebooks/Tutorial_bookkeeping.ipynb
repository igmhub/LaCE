{
 "cells": [
  {
   "cell_type": "markdown",
   "id": "1160161c",
   "metadata": {},
   "source": [
    "# Tutorial bookkeeping\n",
    "\n",
    "In this notebook, we explain how to use the LaCE bookkeeping"
   ]
  },
  {
   "cell_type": "code",
   "execution_count": 1,
   "id": "64b675c5",
   "metadata": {},
   "outputs": [],
   "source": [
    "from lace.archive.gadget_archive import GadgetArchive\n",
    "from lace.archive.nyx_archive import NyxArchive"
   ]
  },
  {
   "cell_type": "markdown",
   "id": "f8d12ec4",
   "metadata": {},
   "source": [
    "### Read full post-processing for each archive"
   ]
  },
  {
   "cell_type": "markdown",
   "id": "66789709",
   "metadata": {},
   "source": [
    "We load all archives here, to avoid redoing these multiple times in the notebook. Then we test them one by one."
   ]
  },
  {
   "cell_type": "code",
   "execution_count": 2,
   "id": "e4bbd8ef",
   "metadata": {},
   "outputs": [
    {
     "name": "stdout",
     "output_type": "stream",
     "text": [
      "CPU times: user 4.01 s, sys: 299 ms, total: 4.3 s\n",
      "Wall time: 8.81 s\n"
     ]
    }
   ],
   "source": [
    "%%time\n",
    "pedersen21_archive = GadgetArchive(postproc='Pedersen21')"
   ]
  },
  {
   "cell_type": "code",
   "execution_count": 3,
   "id": "30b0b48c",
   "metadata": {},
   "outputs": [
    {
     "name": "stdout",
     "output_type": "stream",
     "text": [
      "CPU times: user 36.8 s, sys: 2.44 s, total: 39.3 s\n",
      "Wall time: 1min 11s\n"
     ]
    }
   ],
   "source": [
    "%%time\n",
    "cabayol23_archive = GadgetArchive(postproc='Cabayol23')"
   ]
  },
  {
   "cell_type": "code",
   "execution_count": 4,
   "id": "628f88af",
   "metadata": {},
   "outputs": [
    {
     "name": "stdout",
     "output_type": "stream",
     "text": [
      "read Nyx sim bar_ic_grid_3\n",
      "read Nyx sim cosmo_grid_0\n",
      "read Nyx sim cosmo_grid_1\n",
      "read Nyx sim cosmo_grid_10\n",
      "read Nyx sim cosmo_grid_11\n",
      "read Nyx sim cosmo_grid_12\n",
      "read Nyx sim cosmo_grid_13\n",
      "read Nyx sim cosmo_grid_2\n",
      "read Nyx sim cosmo_grid_3\n",
      "read Nyx sim cosmo_grid_4\n",
      "read Nyx sim cosmo_grid_5\n",
      "read Nyx sim cosmo_grid_6\n",
      "read Nyx sim cosmo_grid_7\n",
      "read Nyx sim cosmo_grid_8\n",
      "read Nyx sim cosmo_grid_9\n",
      "read Nyx sim fiducial\n",
      "read Nyx sim wdm_3.5kev_grid_1\n",
      "CPU times: user 42.8 s, sys: 5.88 s, total: 48.7 s\n",
      "Wall time: 1min\n"
     ]
    }
   ],
   "source": [
    "%%time\n",
    "# specify here the path to the Nyx files in your local computer (or set NYX_PATH environ variable)\n",
    "nyx_fname = None # use NYX_PATH\n",
    "nyx_archive = NyxArchive(file_name=nyx_fname,verbose=True)"
   ]
  },
  {
   "cell_type": "markdown",
   "id": "bda11dfa",
   "metadata": {},
   "source": [
    "### Access training data"
   ]
  },
  {
   "cell_type": "markdown",
   "id": "bae5f35a",
   "metadata": {},
   "source": [
    "#### Pedersen21"
   ]
  },
  {
   "cell_type": "code",
   "execution_count": 5,
   "id": "7d90af5a",
   "metadata": {},
   "outputs": [
    {
     "name": "stdout",
     "output_type": "stream",
     "text": [
      "2178 2178\n",
      "330 330\n"
     ]
    }
   ],
   "source": [
    "archive = pedersen21_archive\n",
    "# (hypercube + special pairs) * nphases * naxes * nscalings * nsnaps\n",
    "# some special pairs have only 1 scaling\n",
    "nelem = (30 + 1) * 2 * 1 * 3 * 11 + 6 * 2 * 1 * 1 * 11\n",
    "print(len(archive.data), nelem)\n",
    "\n",
    "emu_params = [\n",
    "    \"Delta2_p\",\n",
    "    \"n_p\",\n",
    "    \"mF\",\n",
    "    \"sigT_Mpc\",\n",
    "    \"gamma\",\n",
    "    \"kF_Mpc\",\n",
    "]\n",
    "archive_training = archive.get_training_data(emu_params)\n",
    "# hypercube * nsnaps\n",
    "nelem = 30 * 11\n",
    "print(len(archive_training), nelem)"
   ]
  },
  {
   "cell_type": "markdown",
   "id": "d0b213fe",
   "metadata": {},
   "source": [
    "#### Cabayol23"
   ]
  },
  {
   "cell_type": "code",
   "execution_count": 6,
   "id": "8a65bc4d",
   "metadata": {},
   "outputs": [
    {
     "name": "stdout",
     "output_type": "stream",
     "text": [
      "12210 12210\n",
      "9900 9900\n"
     ]
    }
   ],
   "source": [
    "archive = cabayol23_archive\n",
    "# (hypercube + special pairs) * nphases * naxes * nscalings * nsnaps\n",
    "nelem = (30 + 7) * 2 * 3 * 5 * 11\n",
    "print(len(archive.data), nelem)\n",
    "\n",
    "emu_params = [\n",
    "    \"Delta2_p\",\n",
    "    \"n_p\",\n",
    "    \"mF\",\n",
    "    \"sigT_Mpc\",\n",
    "    \"gamma\",\n",
    "    \"kF_Mpc\",\n",
    "]\n",
    "archive_training = archive.get_training_data(emu_params)\n",
    "# hypercube * nphases * naxes * nscalings * nsnaps\n",
    "n_av_phases = 30 * 1 * 3 * 5 * 11\n",
    "n_av_axes   = 30 * 2 * 1 * 5 * 11\n",
    "n_av_all    = 30 * 1 * 1 * 5 * 11\n",
    "print(len(archive_training), n_av_phases + n_av_axes + n_av_all)"
   ]
  },
  {
   "cell_type": "markdown",
   "id": "b9280ae6",
   "metadata": {},
   "source": [
    "#### Nyx"
   ]
  },
  {
   "cell_type": "code",
   "execution_count": 7,
   "id": "1caf3750",
   "metadata": {},
   "outputs": [
    {
     "name": "stdout",
     "output_type": "stream",
     "text": [
      "14490\n",
      "4287\n"
     ]
    }
   ],
   "source": [
    "archive = nyx_archive\n",
    "print(len(archive.data))\n",
    "\n",
    "# parameters that must be available for each training element\n",
    "emu_params = [\n",
    "    \"Delta2_p\",\n",
    "    \"n_p\",\n",
    "    \"mF\",\n",
    "    \"sigT_Mpc\",\n",
    "    \"gamma\",\n",
    "    \"lambda_P\",\n",
    "]\n",
    "\n",
    "archive_training = archive.get_training_data(emu_params)\n",
    "print(len(archive_training))"
   ]
  },
  {
   "cell_type": "markdown",
   "id": "2b872bc0",
   "metadata": {},
   "source": [
    "### Leave-one-out dropping of sims (for first 3 sims)"
   ]
  },
  {
   "cell_type": "markdown",
   "id": "9ee2e8f2",
   "metadata": {},
   "source": [
    "#### Pedersen21"
   ]
  },
  {
   "cell_type": "code",
   "execution_count": 8,
   "id": "04e582df",
   "metadata": {},
   "outputs": [
    {
     "name": "stdout",
     "output_type": "stream",
     "text": [
      "319 319\n",
      "11 11\n",
      "319 319\n",
      "11 11\n",
      "319 319\n",
      "11 11\n"
     ]
    }
   ],
   "source": [
    "archive = pedersen21_archive\n",
    "emu_params = [\n",
    "    \"Delta2_p\",\n",
    "    \"n_p\",\n",
    "    \"mF\",\n",
    "    \"sigT_Mpc\",\n",
    "    \"gamma\",\n",
    "    \"kF_Mpc\",\n",
    "]\n",
    "for ii in range(3):\n",
    "    archive_training = archive.get_training_data(emu_params, drop_sim='mpg_'+str(ii))\n",
    "    # hypercube * nphases * naxes * nscalings * nsnaps\n",
    "    nelem = (30-1) * 1 * 1 * 1 * 11\n",
    "    print(len(archive_training), nelem)\n",
    "    \n",
    "    archive_testing = archive.get_testing_data('mpg_'+str(ii))\n",
    "    nelem = 1 * 1 * 1 * 1 * 11\n",
    "    print(len(archive_testing), nelem)    "
   ]
  },
  {
   "cell_type": "markdown",
   "id": "26157489",
   "metadata": {},
   "source": [
    "#### Cabayol23"
   ]
  },
  {
   "cell_type": "code",
   "execution_count": 9,
   "id": "eedb650d",
   "metadata": {},
   "outputs": [
    {
     "name": "stdout",
     "output_type": "stream",
     "text": [
      "9570 9570\n",
      "11 11\n",
      "9570 9570\n",
      "11 11\n",
      "9570 9570\n",
      "11 11\n"
     ]
    }
   ],
   "source": [
    "archive = cabayol23_archive\n",
    "emu_params = [\n",
    "    \"Delta2_p\",\n",
    "    \"n_p\",\n",
    "    \"mF\",\n",
    "    \"sigT_Mpc\",\n",
    "    \"gamma\",\n",
    "    \"kF_Mpc\",\n",
    "]\n",
    "for ii in range(3):\n",
    "    archive_training = archive.get_training_data(emu_params, drop_sim='mpg_'+str(ii))\n",
    "    # hypercube * nphases * naxes * nscalings * nsnaps\n",
    "    n_av_phases = (30-1) * 1 * 3 * 5 * 11\n",
    "    n_av_axes   = (30-1) * 2 * 1 * 5 * 11\n",
    "    n_av_all    = (30-1) * 1 * 1 * 5 * 11\n",
    "    print(len(archive_training), n_av_phases + n_av_axes + n_av_all)\n",
    "    \n",
    "    archive_testing = archive.get_testing_data('mpg_'+str(ii))\n",
    "    nelem = 1 * 1 * 1 * 1 * 11\n",
    "    print(len(archive_testing), nelem)"
   ]
  },
  {
   "cell_type": "markdown",
   "id": "2d348f79",
   "metadata": {},
   "source": [
    "#### Nyx"
   ]
  },
  {
   "cell_type": "code",
   "execution_count": 10,
   "id": "85222f6f",
   "metadata": {},
   "outputs": [
    {
     "name": "stdout",
     "output_type": "stream",
     "text": [
      "3980\n",
      "15\n",
      "3980\n",
      "15\n",
      "3980\n",
      "15\n"
     ]
    }
   ],
   "source": [
    "archive = nyx_archive\n",
    "# parameters that must be available for each training element\n",
    "emu_params = [\n",
    "    \"Delta2_p\",\n",
    "    \"n_p\",\n",
    "    \"mF\",\n",
    "    \"sigT_Mpc\",\n",
    "    \"gamma\",\n",
    "    \"lambda_P\",\n",
    "]\n",
    "for ii in range(3):\n",
    "    archive_training = archive.get_training_data(\n",
    "        emu_params=emu_params, \n",
    "        drop_sim='nyx_'+str(ii)\n",
    "    )\n",
    "    print(len(archive_training))\n",
    "    \n",
    "    archive_testing = archive.get_testing_data(\n",
    "        'nyx_'+str(ii), \n",
    "        emu_params=emu_params\n",
    "    )\n",
    "    print(len(archive_testing))    "
   ]
  },
  {
   "cell_type": "markdown",
   "id": "8c3f1e8f",
   "metadata": {},
   "source": [
    "### Read special simulations for testing"
   ]
  },
  {
   "cell_type": "markdown",
   "id": "987bd7e2",
   "metadata": {},
   "source": [
    "#### Cabayol23"
   ]
  },
  {
   "cell_type": "code",
   "execution_count": 11,
   "id": "0162859a",
   "metadata": {},
   "outputs": [
    {
     "name": "stdout",
     "output_type": "stream",
     "text": [
      "11 11 mpg_central\n",
      "11 11 mpg_seed\n",
      "11 11 mpg_growth\n",
      "11 11 mpg_neutrinos\n",
      "11 11 mpg_curved\n",
      "11 11 mpg_running\n",
      "11 11 mpg_reio\n"
     ]
    }
   ],
   "source": [
    "archive = cabayol23_archive\n",
    "for sim in archive.list_sim_test:\n",
    "    archive_testing = archive.get_testing_data(sim)\n",
    "    nelem = 1 * 1 * 1 * 1 * 11\n",
    "    print(len(archive_testing), nelem, archive_testing[0]['sim_label'])"
   ]
  },
  {
   "cell_type": "markdown",
   "id": "c6f935ad",
   "metadata": {},
   "source": [
    "#### Pedersen21"
   ]
  },
  {
   "cell_type": "code",
   "execution_count": 12,
   "id": "07544ee7",
   "metadata": {},
   "outputs": [
    {
     "name": "stdout",
     "output_type": "stream",
     "text": [
      "11 11 mpg_central\n",
      "11 11 mpg_seed\n",
      "11 11 mpg_growth\n",
      "11 11 mpg_neutrinos\n",
      "11 11 mpg_curved\n",
      "11 11 mpg_running\n",
      "11 11 mpg_reio\n"
     ]
    }
   ],
   "source": [
    "archive = pedersen21_archive\n",
    "for sim in archive.list_sim_test:\n",
    "    archive_testing = archive.get_testing_data(sim)\n",
    "    nelem = 1 * 1 * 1 * 1 * 11\n",
    "    print(len(archive_testing), nelem, archive_testing[0]['sim_label'])"
   ]
  },
  {
   "cell_type": "markdown",
   "id": "06f00fae",
   "metadata": {},
   "source": [
    "#### Nyx"
   ]
  },
  {
   "cell_type": "code",
   "execution_count": 13,
   "id": "93e45180",
   "metadata": {},
   "outputs": [
    {
     "name": "stdout",
     "output_type": "stream",
     "text": [
      "nyx_central 15\n",
      "nyx_seed 15\n",
      "nyx_wdm 15\n"
     ]
    }
   ],
   "source": [
    "archive = nyx_archive\n",
    "for sim in archive.list_sim_test:\n",
    "    # no \"unscaled\" measurement for this simulation\n",
    "    \n",
    "    if sim == 'nyx_central':\n",
    "        ind_rescaling = 1\n",
    "    else:\n",
    "        ind_rescaling = None\n",
    "    archive_testing = archive.get_testing_data(sim, ind_rescaling=ind_rescaling)\n",
    "    if archive_testing:\n",
    "        print(archive_testing[0]['sim_label'], len(archive_testing))\n",
    "    else:\n",
    "        print('empty sim:',sim)"
   ]
  },
  {
   "cell_type": "code",
   "execution_count": null,
   "id": "2907669f",
   "metadata": {},
   "outputs": [],
   "source": []
  }
 ],
 "metadata": {
  "kernelspec": {
   "display_name": "Python 3 (ipykernel)",
   "language": "python",
   "name": "python3"
  },
  "language_info": {
   "codemirror_mode": {
    "name": "ipython",
    "version": 3
   },
   "file_extension": ".py",
   "mimetype": "text/x-python",
   "name": "python",
   "nbconvert_exporter": "python",
   "pygments_lexer": "ipython3",
   "version": "3.8.13"
  }
 },
 "nbformat": 4,
 "nbformat_minor": 5
}

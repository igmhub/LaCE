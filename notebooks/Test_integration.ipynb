{
 "cells": [
  {
   "cell_type": "code",
   "execution_count": 1,
   "id": "f038e1e1-66d8-4a0e-ac37-aa1d6ba9ee7f",
   "metadata": {},
   "outputs": [],
   "source": [
    "import os\n",
    "import numpy as np\n",
    "env_var = os.environ\n",
    "os.environ[\"LACE_REPO\"] = \"/nfs/pic.es/user/l/lcabayol/DESI/LaCE\"\n",
    "os.environ[\"LACE_MANAGER_REPO\"] = \"/nfs/pic.es/user/l/lcabayol/DESI/LaCE_manager\""
   ]
  },
  {
   "cell_type": "code",
   "execution_count": 2,
   "id": "4fd24fcc-f12f-413d-9618-bb6042893dcd",
   "metadata": {},
   "outputs": [],
   "source": [
    "sys.path.append('emulator.py')"
   ]
  },
  {
   "cell_type": "code",
   "execution_count": 3,
   "id": "dcd4e261-02e6-4dd0-80f3-4decc738c1ce",
   "metadata": {},
   "outputs": [
    {
     "name": "stderr",
     "output_type": "stream",
     "text": [
      " /data/astro/scratch/lcabayol/anaconda3/envs/DESIenv6/lib/python3.10/site-packages/lace-1.0.1-py3.10.egg/lace/emulator/pd_archive.py:210: SyntaxWarning:\"is\" with a literal. Did you mean \"==\"?\n",
      " /data/astro/scratch/lcabayol/anaconda3/envs/DESIenv6/lib/python3.10/site-packages/lace-1.0.1-py3.10.egg/lace/emulator/pd_archive.py:210: SyntaxWarning:\"is\" with a literal. Did you mean \"==\"?\n",
      " /data/astro/scratch/lcabayol/anaconda3/envs/DESIenv6/lib/python3.10/site-packages/tqdm/auto.py:21: TqdmWarning:IProgress not found. Please update jupyter and ipywidgets. See https://ipywidgets.readthedocs.io/en/stable/user_install.html\n"
     ]
    }
   ],
   "source": [
    "from emulator import P1Demulator\n",
    "from lace.emulator import pd_archive\n",
    "from lace.emulator.test_simulation_nn import test_sim\n"
   ]
  },
  {
   "cell_type": "code",
   "execution_count": 4,
   "id": "381390f9-fa9f-4920-aa78-708e7186b14d",
   "metadata": {},
   "outputs": [],
   "source": [
    "# our modules\n",
    "from lace.cosmo import fit_linP\n",
    "from lace.emulator import poly_p1d\n"
   ]
  },
  {
   "cell_type": "code",
   "execution_count": 5,
   "id": "94fcc325-822b-4fba-a94f-ce8558349aee",
   "metadata": {},
   "outputs": [],
   "source": [
    "kmax_Mpc=4\n",
    "ndeg=5"
   ]
  },
  {
   "cell_type": "markdown",
   "id": "550ac1a7-3749-4e8d-84bc-c45feba8799e",
   "metadata": {},
   "source": [
    "## Neural Network"
   ]
  },
  {
   "cell_type": "code",
   "execution_count": 10,
   "id": "d2b26121-db9d-45da-8ea0-f14c8a0721ee",
   "metadata": {
    "tags": []
   },
   "outputs": [
    {
     "name": "stdout",
     "output_type": "stream",
     "text": [
      "start the training of the emulator\n",
      "Training network on 11550\n",
      "Emualtor trained in 107.70529174804688 seconds\n"
     ]
    }
   ],
   "source": [
    "emulator = P1Demulator(save_path=f'/nfs/pic.es/user/l/lcabayol/DESI/LaCE/lace/emulator/NNmodels/NNEmulator_LaCEHC.pt')"
   ]
  },
  {
   "cell_type": "code",
   "execution_count": 11,
   "id": "1b3b0ef1-77ad-4325-85d0-409fee7a44d3",
   "metadata": {},
   "outputs": [
    {
     "name": "stdout",
     "output_type": "stream",
     "text": [
      "42\n",
      "Mean fractional error: 0.9948371740004323\n",
      "Std fractional error: 0.004675616305180939\n"
     ]
    }
   ],
   "source": [
    "truth=pd_archive.archivePD(z_max=4.5,nsamples=30, pick_sim='central')\n",
    "truth.average_over_samples(flag=\"all\")\n",
    "zs = [d['z'] for d in truth.data_av_all if d['scale_tau'] == 1] \n",
    "truth = [d for d in truth.data_av_all if d['scale_tau'] == 1] \n",
    "\n",
    "fractional_error, emu_p1d, true_p1d, emu_p1derr = test_sim(emulator.emulator.emulator, truth, emulator.emulator.emuparams, emulator.emulator.paramLims, emulator.emulator.device, emulator.emulator.yscalings,  kmax_Mpc_test=kmax_Mpc, ndeg=ndeg )\n"
   ]
  },
  {
   "cell_type": "markdown",
   "id": "ace75288-7cce-4400-8c13-c5478342af3e",
   "metadata": {},
   "source": [
    "## Gaussian Process"
   ]
  },
  {
   "cell_type": "code",
   "execution_count": 6,
   "id": "a8b79b0b-a691-4e83-ac6c-4b6479949dab",
   "metadata": {},
   "outputs": [
    {
     "name": "stderr",
     "output_type": "stream",
     "text": [
      "\n",
      "KeyboardInterrupt\n",
      "\n"
     ]
    }
   ],
   "source": [
    "emulator = P1Demulator(emu_algorithm='GP',  list_archives=['data_av_all'])"
   ]
  },
  {
   "cell_type": "code",
   "execution_count": 9,
   "id": "a7530c7f-eda4-4dcb-92de-ade87dcc73e6",
   "metadata": {},
   "outputs": [
    {
     "name": "stdout",
     "output_type": "stream",
     "text": [
      "mean fractional error: 0.9909885143284279\n",
      "std fractional error: 0.004350958265193714\n"
     ]
    }
   ],
   "source": [
    "truth=pd_archive.archivePD(z_max=4.5, pick_sim='central')\n",
    "truth.average_over_samples(flag=\"all\")\n",
    "truth = [d for d in truth.data_av_all if d['scale_tau'] == 1] \n",
    "\n",
    "for aa,item in enumerate(truth):\n",
    "    # figure out redshift for this entry\n",
    "    z=item[\"z\"]\n",
    "\n",
    "    true_k=item[\"k_Mpc\"]\n",
    "    k_mask=(true_k<kmax_Mpc) & (true_k>0)\n",
    "    true_p1d=item[\"p1d_Mpc\"][k_mask]\n",
    "    coeff_p1d = poly_p1d.PolyP1D(true_k[k_mask],true_p1d,kmin_Mpc=1.e-3,kmax_Mpc=emulator.emulator.kmax_Mpc,deg=emulator.emulator.ndeg).lnP_fit\n",
    "    poly=np.poly1d(coeff_p1d)\n",
    "    true_p1d_poly =np.exp(poly(np.log(true_k[k_mask])))\n",
    "\n",
    "    # true p1d (some sims have an extra k bin, so we need to define mask again)\n",
    "    true_k=item[\"k_Mpc\"]\n",
    "    k_mask=(true_k<kmax_Mpc) & (true_k>0)\n",
    "    true_p1d=item[\"p1d_Mpc\"][k_mask]\n",
    "    assert len(true_p1d)==(emulator.emulator.k_bin-1)\n",
    "\n",
    "\n",
    "    # for each entry, figure emulator parameter describing it (labels)\n",
    "    emu_call={}\n",
    "    for bb,param in enumerate(emulator.emulator.paramList):\n",
    "        emu_call[param]=item[param]\n",
    "\n",
    "    # ask emulator to emulate P1D (and its uncertainty)\n",
    "    emu_p1d,emu_err=emulator.emulator.emulate_p1d_Mpc(emu_call,emulator.emulator.training_k_bins,return_covar=True)\n",
    "    fractional_errors_gp = emu_p1d/true_p1d_poly\n",
    "print(f'mean fractional error: {np.mean(fractional_errors_gp)}')\n",
    "print(f'std fractional error: {np.std(fractional_errors_gp)}')"
   ]
  },
  {
   "cell_type": "markdown",
   "id": "9557493b-52f4-4c02-b1da-a3f7785496a1",
   "metadata": {},
   "source": [
    "## Test old post-processing"
   ]
  },
  {
   "cell_type": "code",
   "execution_count": 12,
   "id": "07df0e39-b668-4329-9717-1e43002ba3df",
   "metadata": {},
   "outputs": [
    {
     "name": "stdout",
     "output_type": "stream",
     "text": [
      "start the training of the emulator\n",
      "Training network on 11550\n",
      "Emualtor trained in 107.57688426971436 seconds\n"
     ]
    }
   ],
   "source": [
    "emulator = P1Demulator(postprocessing='500')"
   ]
  },
  {
   "cell_type": "code",
   "execution_count": 13,
   "id": "ac3bc6a3-805a-4b30-9991-6b7510b58e6b",
   "metadata": {},
   "outputs": [
    {
     "name": "stdout",
     "output_type": "stream",
     "text": [
      "Training GP on 330 points\n",
      "GPs optimised in 0.45 seconds\n"
     ]
    }
   ],
   "source": [
    "emulator = P1Demulator(postprocessing='500',emu_algorithm='GP',  list_archives=['data_av_all'])"
   ]
  },
  {
   "cell_type": "code",
   "execution_count": 6,
   "id": "a07543a0-cd2b-4e7f-be4b-814057a97b5f",
   "metadata": {},
   "outputs": [
    {
     "ename": "Exception",
     "evalue": "Available post-processings are \"500\" and \"768\"",
     "output_type": "error",
     "traceback": [
      "\u001b[0;31m---------------------------------------------------------------------------\u001b[0m",
      "\u001b[0;31mException\u001b[0m                                 Traceback (most recent call last)",
      "Cell \u001b[0;32mIn [6], line 1\u001b[0m\n\u001b[0;32m----> 1\u001b[0m emulator \u001b[38;5;241m=\u001b[39m \u001b[43mP1Demulator\u001b[49m\u001b[43m(\u001b[49m\u001b[43mpostprocessing\u001b[49m\u001b[38;5;241;43m=\u001b[39;49m\u001b[38;5;124;43m'\u001b[39;49m\u001b[38;5;124;43m1600\u001b[39;49m\u001b[38;5;124;43m'\u001b[39;49m\u001b[43m,\u001b[49m\u001b[43memu_algorithm\u001b[49m\u001b[38;5;241;43m=\u001b[39;49m\u001b[38;5;124;43m'\u001b[39;49m\u001b[38;5;124;43mGP\u001b[39;49m\u001b[38;5;124;43m'\u001b[39;49m\u001b[43m,\u001b[49m\u001b[43m  \u001b[49m\u001b[43mlist_archives\u001b[49m\u001b[38;5;241;43m=\u001b[39;49m\u001b[43m[\u001b[49m\u001b[38;5;124;43m'\u001b[39;49m\u001b[38;5;124;43mdata_av_all\u001b[39;49m\u001b[38;5;124;43m'\u001b[39;49m\u001b[43m]\u001b[49m\u001b[43m)\u001b[49m\n",
      "File \u001b[0;32m~/DESI/LaCE/lace/emulator/emulator.py:45\u001b[0m, in \u001b[0;36mP1Demulator.__init__\u001b[0;34m(self, emu_algorithm, paramList, zmax, kmax_Mpc, ndeg, Nsim, train, emu_type, list_archives, postprocessing, drop_rescalings, drop_sim, drop_z, passarchive, model_path, save_path)\u001b[0m\n\u001b[1;32m     42\u001b[0m     list_archives \u001b[38;5;241m=\u001b[39m [\u001b[38;5;124m'\u001b[39m\u001b[38;5;124mdata\u001b[39m\u001b[38;5;124m'\u001b[39m]\n\u001b[1;32m     44\u001b[0m \u001b[38;5;28;01mif\u001b[39;00m (postprocessing \u001b[38;5;241m!=\u001b[39m \u001b[38;5;124m'\u001b[39m\u001b[38;5;124m500\u001b[39m\u001b[38;5;124m'\u001b[39m)\u001b[38;5;241m&\u001b[39m(postprocessing \u001b[38;5;241m!=\u001b[39m \u001b[38;5;124m'\u001b[39m\u001b[38;5;124m768\u001b[39m\u001b[38;5;124m'\u001b[39m):\n\u001b[0;32m---> 45\u001b[0m     \u001b[38;5;28;01mraise\u001b[39;00m \u001b[38;5;167;01mException\u001b[39;00m(\u001b[38;5;124m'\u001b[39m\u001b[38;5;124mAvailable post-processings are \u001b[39m\u001b[38;5;124m\"\u001b[39m\u001b[38;5;124m500\u001b[39m\u001b[38;5;124m\"\u001b[39m\u001b[38;5;124m and \u001b[39m\u001b[38;5;124m\"\u001b[39m\u001b[38;5;124m768\u001b[39m\u001b[38;5;124m\"\u001b[39m\u001b[38;5;124m'\u001b[39m)\n\u001b[1;32m     48\u001b[0m \u001b[38;5;28;01mif\u001b[39;00m \u001b[38;5;28mself\u001b[39m\u001b[38;5;241m.\u001b[39memu_algorithm \u001b[38;5;241m==\u001b[39m \u001b[38;5;124m'\u001b[39m\u001b[38;5;124mNN\u001b[39m\u001b[38;5;124m'\u001b[39m:\n\u001b[1;32m     49\u001b[0m     \u001b[38;5;66;03m# If emu_algorithm is 'NN', create an instance of NNEmulator and assign it to the emulator attribute\u001b[39;00m\n\u001b[1;32m     50\u001b[0m     \u001b[38;5;28mself\u001b[39m\u001b[38;5;241m.\u001b[39memulator \u001b[38;5;241m=\u001b[39m NNEmulator(\n\u001b[1;32m     51\u001b[0m         paramList\u001b[38;5;241m=\u001b[39mparamList,\n\u001b[1;32m     52\u001b[0m         kmax_Mpc\u001b[38;5;241m=\u001b[39m\u001b[38;5;241m4\u001b[39m,\n\u001b[0;32m   (...)\u001b[0m\n\u001b[1;32m     66\u001b[0m         drop_rescalings\u001b[38;5;241m=\u001b[39mdrop_rescalings\n\u001b[1;32m     67\u001b[0m     )\n",
      "\u001b[0;31mException\u001b[0m: Available post-processings are \"500\" and \"768\""
     ]
    }
   ],
   "source": [
    "emulator = P1Demulator(postprocessing='1600',emu_algorithm='GP',  list_archives=['data_av_all'])"
   ]
  },
  {
   "cell_type": "code",
   "execution_count": null,
   "id": "ff6f7e42-b95b-4458-8277-7ff141d7046b",
   "metadata": {},
   "outputs": [],
   "source": []
  }
 ],
 "metadata": {
  "kernelspec": {
   "display_name": "DESIenv6",
   "language": "python",
   "name": "desienv6"
  },
  "language_info": {
   "codemirror_mode": {
    "name": "ipython",
    "version": 3
   },
   "file_extension": ".py",
   "mimetype": "text/x-python",
   "name": "python",
   "nbconvert_exporter": "python",
   "pygments_lexer": "ipython3",
   "version": "3.10.9"
  }
 },
 "nbformat": 4,
 "nbformat_minor": 5
}

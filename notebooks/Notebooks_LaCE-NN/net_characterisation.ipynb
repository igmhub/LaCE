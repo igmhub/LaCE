{
 "cells": [
  {
   "cell_type": "code",
   "execution_count": 1,
   "id": "5047748d-e9f0-4189-a576-2f02e65552e1",
   "metadata": {},
   "outputs": [],
   "source": [
    "%matplotlib inline\n",
    "%load_ext autoreload\n",
    "%autoreload 2\n"
   ]
  },
  {
   "cell_type": "code",
   "execution_count": 2,
   "id": "b0d68a32-193d-4c2d-a905-c3757e141b29",
   "metadata": {},
   "outputs": [],
   "source": [
    "import numpy as np\n",
    "#import cython\n",
    "import matplotlib.pyplot as plt\n",
    "import pandas as pd\n",
    "import sklearn"
   ]
  },
  {
   "cell_type": "code",
   "execution_count": 3,
   "id": "b2e40e30-ab87-4b88-b0fe-4c7d6b334c7d",
   "metadata": {},
   "outputs": [],
   "source": [
    "from matplotlib import rcParams\n",
    "rcParams[\"mathtext.fontset\"] = \"stix\"\n",
    "rcParams[\"font.family\"] = \"STIXGeneral\""
   ]
  },
  {
   "cell_type": "code",
   "execution_count": 4,
   "id": "990bc779-e1a9-496e-92c5-544e88eecd85",
   "metadata": {},
   "outputs": [
    {
     "name": "stderr",
     "output_type": "stream",
     "text": [
      " /data/astro/scratch/lcabayol/anaconda3/envs/DESIenv6/lib/python3.10/site-packages/lace-1.0.1-py3.10.egg/lace/emulator/pd_archive.py:210: SyntaxWarning:\"is\" with a literal. Did you mean \"==\"?\n",
      " /data/astro/scratch/lcabayol/anaconda3/envs/DESIenv6/lib/python3.10/site-packages/lace-1.0.1-py3.10.egg/lace/emulator/pd_archive.py:210: SyntaxWarning:\"is\" with a literal. Did you mean \"==\"?\n"
     ]
    }
   ],
   "source": [
    "# our modules\n",
    "from lace.emulator import gp_emulator\n",
    "from lace.emulator import p1d_archive\n",
    "from lace.cosmo import camb_cosmo\n",
    "from lace.cosmo import fit_linP\n",
    "from lace.emulator import poly_p1d\n",
    "from lace.emulator import pd_archive\n"
   ]
  },
  {
   "cell_type": "code",
   "execution_count": 5,
   "id": "9a1e5e8f-571d-4f70-b794-046d22342b01",
   "metadata": {},
   "outputs": [],
   "source": [
    "import os\n",
    "env_var = os.environ\n",
    "os.environ[\"LACE_REPO\"] = \"/nfs/pic.es/user/l/lcabayol/DESI/LaCE\"\n",
    "os.environ[\"LACE_MANAGER_REPO\"] = \"/nfs/pic.es/user/l/lcabayol/DESI/LaCE_manager\""
   ]
  },
  {
   "cell_type": "code",
   "execution_count": 6,
   "id": "57419ccc-8104-476b-9766-405e3a0a3a3b",
   "metadata": {},
   "outputs": [],
   "source": [
    "import os\n",
    "env_var = os.environ\n",
    "os.environ[\"LACE_REPO\"] = \"/nfs/pic.es/user/l/lcabayol/DESI/LaCE\"\n",
    "basedir=\"../LaCE_manager/LaCE/lace/emulator/sim_suites/Australia20/\"\n",
    "basedir_test=\"/LaCE/lace/emulator/sim_suites/Australia20/\""
   ]
  },
  {
   "cell_type": "code",
   "execution_count": 7,
   "id": "7aed0126-344b-40bc-9dff-dcfa002b1329",
   "metadata": {},
   "outputs": [
    {
     "name": "stderr",
     "output_type": "stream",
     "text": [
      " /data/astro/scratch/lcabayol/anaconda3/envs/DESIenv6/lib/python3.10/site-packages/tqdm/auto.py:21: TqdmWarning:IProgress not found. Please update jupyter and ipywidgets. See https://ipywidgets.readthedocs.io/en/stable/user_install.html\n"
     ]
    }
   ],
   "source": [
    "import torch\n",
    "from torch.utils.data import DataLoader, dataset, TensorDataset\n",
    "from torch import nn, optim\n",
    "from torch.optim import lr_scheduler"
   ]
  },
  {
   "cell_type": "code",
   "execution_count": 8,
   "id": "83322da3-64fc-4a6c-969b-4c206f2e1682",
   "metadata": {},
   "outputs": [],
   "source": [
    "def sigma68(data): return 0.5*(np.nanquantile(data,q = 0.84,axis = 0) - np.nanquantile(data,q = 0.16,axis = 0))"
   ]
  },
  {
   "cell_type": "code",
   "execution_count": 9,
   "id": "6c6637e2-3351-44cb-b868-e2110e0fa634",
   "metadata": {},
   "outputs": [],
   "source": [
    "drop_tau_rescalings = False\n",
    "emu_params = ['Delta2_p', 'n_p','mF', 'sigT_Mpc', 'gamma', 'kF_Mpc']\n",
    "emu_label = ['p1d_Mpc']\n",
    "emu_kmax_Mpc=8\n",
    "kmax_Mpc_train=4\n",
    "kmax_Mpc_test=4\n",
    "zmax = 4.5\n",
    "Nsim=30"
   ]
  },
  {
   "cell_type": "code",
   "execution_count": 10,
   "id": "0adeb248-6d4a-4538-b4ca-360fb217e201",
   "metadata": {},
   "outputs": [],
   "source": [
    "sim=pd_archive.archivePD()\n",
    "\n",
    "key_to_extract = ['Delta2_p', 'n_p','mF', 'sigT_Mpc', 'gamma', 'kF_Mpc']\n",
    "\n",
    "training_data = [{ key:value for key,value in sim.data[i].items() if key in key_to_extract} for i in range(len(sim.data))]\n",
    "training_data = [list(training_data[i].values()) for i in range(len(sim.data))]\n",
    "training_data = np.array(training_data)\n",
    "\n",
    "min_ = training_data.min(0)\n",
    "max_ = training_data.max(0)\n",
    "\n",
    "mean_params, std_params = training_data.mean(0), training_data.std(0)\n",
    "\n",
    "paramlims = np.concatenate((min_.reshape(len(min_),1),max_.reshape(len(max_),1)),1)"
   ]
  },
  {
   "cell_type": "markdown",
   "id": "9650c952-3679-4763-a15e-c88581713a99",
   "metadata": {},
   "source": [
    "## DEFINE THE NETWORKS"
   ]
  },
  {
   "cell_type": "code",
   "execution_count": 12,
   "id": "147b70e6-0825-4731-ac43-c3518a37dfe5",
   "metadata": {},
   "outputs": [],
   "source": [
    "class MDNemulator_polyfit(torch.nn.Module):\n",
    "    def __init__(self, nhidden, ndeg):\n",
    "        super().__init__()\n",
    "        self.inputlay = torch.nn.Sequential(nn.Linear(6 ,10),nn.LeakyReLU(0.5))\n",
    "        \n",
    "        params = np.linspace(10,100,nhidden)\n",
    "        modules = []\n",
    "        for k in range(nhidden-1):\n",
    "            modules.append(nn.Linear(int(params[k]) ,int(params[k+1])))\n",
    "            modules.append(nn.LeakyReLU(0.5))  \n",
    "        self.hiddenlay = nn.Sequential(*modules)\n",
    "                \n",
    "        self.means = torch.nn.Sequential(nn.Linear(100 ,50),nn.LeakyReLU(0.5),nn.Linear(50, ndeg+1))\n",
    "        self.stds = torch.nn.Sequential(nn.Linear(100 ,50),nn.LeakyReLU(0.5),nn.Linear(50 ,ndeg+1))\n",
    "        \n",
    "    def forward(self, inp):\n",
    "        \n",
    "        x = self.inputlay(inp)\n",
    "        x = self.hiddenlay(x)\n",
    "        p1d = self.means(x)\n",
    "        logerrp1d = self.stds(x)\n",
    "\n",
    "        \n",
    "        return p1d,logerrp1d   "
   ]
  },
  {
   "cell_type": "code",
   "execution_count": 13,
   "id": "ef9a9512-049a-4b54-bb01-3015cc56615a",
   "metadata": {},
   "outputs": [],
   "source": [
    "class MDNemulator_polyfit_Relu(torch.nn.Module):\n",
    "    def __init__(self, nhidden, ndeg):\n",
    "        super().__init__()\n",
    "        self.inputlay = torch.nn.Sequential(nn.Linear(6 ,10),nn.ReLU())\n",
    "        \n",
    "        params = np.linspace(10,100,nhidden)\n",
    "        modules = []\n",
    "        for k in range(nhidden-1):\n",
    "            modules.append(nn.Linear(int(params[k]) ,int(params[k+1])))\n",
    "            modules.append(nn.ReLU())  \n",
    "        self.hiddenlay = nn.Sequential(*modules)\n",
    "                \n",
    "        self.means = torch.nn.Sequential(nn.Linear(100 ,50),nn.ReLU(),nn.Linear(50, ndeg+1))\n",
    "        self.stds = torch.nn.Sequential(nn.Linear(100 ,50),nn.ReLU(),nn.Linear(50 ,ndeg+1))\n",
    "        \n",
    "    def forward(self, inp):\n",
    "        \n",
    "        x = self.inputlay(inp)\n",
    "        x = self.hiddenlay(x)\n",
    "        p1d = self.means(x)\n",
    "        logerrp1d = self.stds(x)\n",
    "\n",
    "        \n",
    "        return p1d,logerrp1d   "
   ]
  },
  {
   "cell_type": "markdown",
   "id": "29847dfc-89ba-479e-966e-24c044363af5",
   "metadata": {
    "tags": []
   },
   "source": [
    "## DEFINE THE ARCHIVE"
   ]
  },
  {
   "cell_type": "code",
   "execution_count": 14,
   "id": "538399db-5452-40be-9dc0-10213c52c613",
   "metadata": {},
   "outputs": [],
   "source": [
    "# Set up cosmology to get eBOSS k_max at each z where we have data\n",
    "cosmo_fid=camb_cosmo.get_cosmology()"
   ]
  },
  {
   "cell_type": "code",
   "execution_count": 15,
   "id": "462c412b-760f-498c-a700-96848d7bb3b2",
   "metadata": {},
   "outputs": [],
   "source": [
    "# read eBOSS P1D to plot relative error bars\n",
    "from lace_manager.data import data_Chabanier2019\n",
    "\n",
    "chab=data_Chabanier2019.P1D_Chabanier2019()"
   ]
  },
  {
   "cell_type": "code",
   "execution_count": 16,
   "id": "9dfb45d0-f7f0-4ab5-b2df-a0713cbf80d1",
   "metadata": {},
   "outputs": [
    {
     "name": "stdout",
     "output_type": "stream",
     "text": [
      "will use 11 redshifts / snapshots\n",
      "will use 42 wavenumbers\n"
     ]
    }
   ],
   "source": [
    "# load one of the simulations (#0) to figure out redshift range and wavenumbers\n",
    "sim=p1d_archive.archiveP1D(basedir=basedir,z_max=zmax,pick_sim_number=0,\n",
    "                            drop_tau_rescalings=True,drop_temp_rescalings=True)\n",
    "# get redshifts in simulation\n",
    "sim_zs=[data['z'] for data in sim.data]\n",
    "Nz=len(sim_zs)\n",
    "print('will use {} redshifts / snapshots'.format(Nz))\n",
    "# get wavenumbers in 1/Mpc units (same for all snapshots in all sims)\n",
    "sim_k_Mpc=sim.data[0]['k_Mpc']\n",
    "# use only 0 < k < kmax_Mpc\n",
    "k_mask=(sim_k_Mpc<kmax_Mpc_train) & (sim_k_Mpc>0)\n",
    "sim_k_Mpc=sim_k_Mpc[k_mask]\n",
    "Nk=42#len(sim_k_Mpc)\n",
    "print('will use {} wavenumbers'.format(Nk))"
   ]
  },
  {
   "cell_type": "markdown",
   "id": "04c776e7-3c64-49c8-bf47-20160c636eb3",
   "metadata": {},
   "source": [
    "## TRAINING AND TEST FUNCTIONS (WITH OPTIONS TO TEST)"
   ]
  },
  {
   "cell_type": "code",
   "execution_count": 17,
   "id": "8b50b29c-2cb2-48a2-bfce-411301b07906",
   "metadata": {},
   "outputs": [],
   "source": [
    "def train_mdn_polyfit(net, loader, k_mpc, epochs, step_size, lr0, polylog=True):\n",
    "    optimizer = optim.Adam(net.parameters(), lr=lr0, weight_decay=1e-2)\n",
    "    scheduler = lr_scheduler.StepLR(optimizer, step_size=step_size, gamma=0.1)\n",
    "    ndeg=5\n",
    "    if polylog==True:\n",
    "        log_KMpc = torch.log10(k_mpc).cuda()\n",
    "    else: \n",
    "        log_KMpc=k_mpc.cuda()\n",
    "        \n",
    "    for epoch in range(100):\n",
    "        for datain, p1D_true in loader:\n",
    "            optimizer.zero_grad() \n",
    "\n",
    "\n",
    "            coeffsPred,coeffs_logerr = net(datain.cuda())#\n",
    "            coeffs_logerr = torch.clamp(coeffs_logerr,-10,5)\n",
    "            coeffserr = torch.exp(coeffs_logerr)**2\n",
    "\n",
    "\n",
    "            powers = torch.arange(0,ndeg+1,1).cuda()\n",
    "            P1Dpred = torch.sum(coeffsPred[:,powers,None] * (log_KMpc[None,:] ** powers[None,:,None]), axis=1)\n",
    "\n",
    "\n",
    "            powers_err = torch.arange(0, ndeg*2+1, 2).cuda()\n",
    "            P1Derr = torch.sqrt(torch.sum(coeffserr[:,powers,None] * (log_KMpc[None,:] ** powers_err[None,:,None]), axis=1))\n",
    "\n",
    "            P1Dlogerr = torch.log(P1Derr)\n",
    "\n",
    "\n",
    "            log_prob = ((P1Dpred - p1D_true.cuda()) / P1Derr).pow(2) + 2*P1Dlogerr#\n",
    "\n",
    "            loss = torch.nansum(log_prob,1)\n",
    "            loss = torch.nanmean(loss,0)\n",
    "\n",
    "            loss.backward()\n",
    "            optimizer.step()\n",
    "\n",
    "        scheduler.step()\n",
    "\n",
    "    return net"
   ]
  },
  {
   "cell_type": "code",
   "execution_count": 18,
   "id": "c183c1dd-f06a-4cee-8096-475121ddb718",
   "metadata": {},
   "outputs": [],
   "source": [
    "def test_sim(truth, mdnemu, yscalings, p1dscaling,inputscaling, polylog=True):\n",
    "    Nz, Nk, ndeg = 11, 42, 5\n",
    "    fractional_error=np.zeros((Nz,Nk))\n",
    "    emu_p1derrs=np.zeros((Nz,Nk))\n",
    "    emu_p1ds = np.zeros((Nz,Nk))\n",
    "    true_p1ds=np.zeros((Nz,Nk))\n",
    "    \n",
    "    sim_zs=truth.zs\n",
    "\n",
    "    \n",
    "    with torch.no_grad():\n",
    "        # for each entry (z) in truth/test simulation, compute residuals\n",
    "        for aa,item in enumerate(truth.data):\n",
    "\n",
    "            # figure out redshift for this entry\n",
    "            z=item[\"z\"]\n",
    "            # true p1d (some sims have an extra k bin, so we need to define mask again)\n",
    "            true_k=item[\"k_Mpc\"]\n",
    "            k_mask=(true_k<kmax_Mpc_test) & (true_k>0)\n",
    "            true_p1d=item[\"p1d_Mpc\"][k_mask][:Nk]\n",
    "            assert len(true_p1d)==Nk\n",
    "            true_k = true_k[k_mask]\n",
    "\n",
    "            fit_p1d = poly_p1d.PolyP1D(true_k,true_p1d, kmin_Mpc=1.e-3,kmax_Mpc=3,deg=5)\n",
    "            true_p1d = fit_p1d.P_Mpc(true_k)\n",
    "\n",
    "\n",
    "            if polylog==True:\n",
    "                log_KMpc = torch.log10(torch.Tensor(true_k)).cuda()\n",
    "            else:\n",
    "                log_KMpc = torch.Tensor(true_k).cuda()\n",
    "\n",
    "            # for each entry, figure emulator parameter describing it (labels)\n",
    "            emu_call={}\n",
    "            for param in ['Delta2_p', 'n_p', 'mF','gamma','sigT_Mpc' , 'kF_Mpc']:\n",
    "                emu_call[param]=item[param]\n",
    "\n",
    "\n",
    "            emu_call = list(emu_call.values())\n",
    "            emu_call = np.array(emu_call)\n",
    "\n",
    "            if inputscaling== True:\n",
    "                emu_call = (emu_call - paramlims[:,0]) / (paramlims[:,1] - paramlims[:,0]) -0.5\n",
    "            else: \n",
    "                emu_call = (emu_call - paramlims[:,0]) / (paramlims[:,1] - paramlims[:,0]) \n",
    "\n",
    "            emu_call = torch.Tensor(emu_call).unsqueeze(0)\n",
    "\n",
    "            # ask emulator to emulate P1D (and its uncertainty)\n",
    "            coeffsPred,coeffs_logerr = mdnemu(emu_call.cuda())\n",
    "            coeffs_logerr = torch.clamp(coeffs_logerr,-10,5)\n",
    "\n",
    "            coeffserr = torch.exp(coeffs_logerr)**2\n",
    "            \n",
    "                \n",
    "            powers = torch.arange(0,ndeg+1,1).cuda()\n",
    "            emu_p1d = torch.sum(coeffsPred[:,powers,None] * (log_KMpc[None,:] ** powers[None,:,None]), axis=1)\n",
    "\n",
    "\n",
    "            powers_err = torch.arange(0, ndeg*2+1, 2).cuda()\n",
    "            emu_p1derr = torch.sqrt(torch.sum(coeffserr[:,powers,None] * (log_KMpc[None,:] ** powers_err[None,:,None]), axis=1))\n",
    "\n",
    "\n",
    "            emu_p1d = emu_p1d.detach().cpu().numpy().flatten()\n",
    "            emu_p1derr = emu_p1derr.detach().cpu().numpy().flatten()\n",
    "\n",
    "\n",
    "            if p1dscaling==True:\n",
    "                emu_p1derr = 10**(emu_p1d)*np.log(10)*yscalings*emu_p1derr\n",
    "                emu_p1d = 10**(emu_p1d) * yscalings\n",
    "\n",
    "            else:\n",
    "                emu_p1derr = emu_p1d * yscalings\n",
    "                emu_p1d = emu_p1d * yscalings\n",
    "\n",
    "            fractional_error[aa]=emu_p1d/true_p1d\n",
    "            emu_p1derrs[aa]=emu_p1derr\n",
    "            emu_p1ds[aa]=emu_p1d\n",
    "            true_p1ds[aa]=true_p1d\n",
    "            \n",
    "\n",
    "        print('Mean fractional error:', fractional_error.mean())\n",
    "        print('Std fractional error:', fractional_error.std())\n",
    "\n",
    "\n",
    "    return fractional_error, emu_p1ds, true_p1ds"
   ]
  },
  {
   "cell_type": "code",
   "execution_count": 19,
   "id": "4153cce6-175a-492c-bd79-f910896f3cec",
   "metadata": {},
   "outputs": [],
   "source": [
    "def test_othersim(truth, mdnemu, yscalings, p1dscaling,inputscaling, polylog=True):\n",
    "    Nz, Nk, ndeg= 11, 42, 5\n",
    "    fractional_error=np.zeros((Nz,Nk))\n",
    "    emu_p1derrs=np.zeros((Nz,Nk))\n",
    "    emu_p1ds = np.zeros((Nz,Nk))\n",
    "    true_p1ds=np.zeros((Nz,Nk))\n",
    "    \n",
    "    \n",
    "    with torch.no_grad():\n",
    "        # for each entry (z) in truth/test simulation, compute residuals\n",
    "        for aa, z in enumerate(sim_zs):\n",
    "\n",
    "            true_k=truth[aa]['k_Mpc']\n",
    "            k_mask=(true_k<kmax_Mpc_test) & (true_k>0)\n",
    "            true_p1d=truth[aa]['p1d_Mpc'][k_mask][:Nk]\n",
    "            assert len(true_p1d)==Nk\n",
    "            true_k = true_k[k_mask]\n",
    "\n",
    "            fit_p1d = poly_p1d.PolyP1D(true_k,true_p1d, kmin_Mpc=1.e-3,kmax_Mpc=3,deg=5)\n",
    "            true_p1d = fit_p1d.P_Mpc(true_k)\n",
    "\n",
    "\n",
    "            if polylog==True:\n",
    "                log_KMpc = torch.log10(torch.Tensor(true_k)).cuda()\n",
    "            else:\n",
    "                log_KMpc = torch.Tensor(true_k).cuda()\n",
    "\n",
    "            # for each entry, figure emulator parameter describing it (labels)\n",
    "            emu_call={}\n",
    "            for param in ['Delta2_p', 'n_p', 'mF','gamma','sigT_Mpc' , 'kF_Mpc']:\n",
    "                emu_call[param]=truth[aa][param]\n",
    "\n",
    "\n",
    "            emu_call = list(emu_call.values())\n",
    "            emu_call = np.array(emu_call)\n",
    "\n",
    "            if inputscaling== True:\n",
    "                emu_call = (emu_call - paramlims[:,0]) / (paramlims[:,1] - paramlims[:,0]) -0.5\n",
    "            else: \n",
    "                emu_call = (emu_call - paramlims[:,0]) / (paramlims[:,1] - paramlims[:,0]) \n",
    "\n",
    "            emu_call = torch.Tensor(emu_call).unsqueeze(0)\n",
    "\n",
    "            # ask emulator to emulate P1D (and its uncertainty)\n",
    "            coeffsPred,coeffs_logerr = mdnemu(emu_call.cuda())\n",
    "            coeffs_logerr = torch.clamp(coeffs_logerr,-10,5)\n",
    "\n",
    "            coeffserr = torch.exp(coeffs_logerr)**2\n",
    "                            \n",
    "            powers = torch.arange(0,ndeg+1,1).cuda()\n",
    "            emu_p1d = torch.sum(coeffsPred[:,powers,None] * (log_KMpc[None,:] ** powers[None,:,None]), axis=1)\n",
    "\n",
    "\n",
    "            powers_err = torch.arange(0, ndeg*2+1, 2).cuda()\n",
    "            emu_p1derr = torch.sqrt(torch.sum(coeffserr[:,powers,None] * (log_KMpc[None,:] ** powers_err[None,:,None]), axis=1))\n",
    "\n",
    "\n",
    "            emu_p1d = emu_p1d.detach().cpu().numpy().flatten()\n",
    "            emu_p1derr = emu_p1derr.detach().cpu().numpy().flatten()\n",
    "\n",
    "            if p1dscaling==True:\n",
    "                emu_p1derr = 10**(emu_p1d)*np.log(10)*yscalings*emu_p1derr\n",
    "                emu_p1d = 10**(emu_p1d) * yscalings\n",
    "\n",
    "            else:\n",
    "                emu_p1derr = emu_p1d * yscalings\n",
    "                emu_p1d = emu_p1d * yscalings\n",
    "\n",
    "            fractional_error[aa]=emu_p1d/true_p1d\n",
    "            emu_p1derrs[aa]=emu_p1derr\n",
    "            emu_p1ds[aa]=emu_p1d\n",
    "            true_p1ds[aa]=true_p1d\n",
    "            \n",
    "\n",
    "        print('Mean fractional error:', fractional_error.mean())\n",
    "        print('Std fractional error:', fractional_error.std())\n",
    "\n",
    "\n",
    "    return fractional_error, emu_p1ds, true_p1ds"
   ]
  },
  {
   "cell_type": "markdown",
   "id": "5632cd93-a187-4699-be99-6bc5202f5bb8",
   "metadata": {},
   "source": [
    "## DATA SELECTION (WITH SCALING OPTIONS)"
   ]
  },
  {
   "cell_type": "code",
   "execution_count": 20,
   "id": "dc6b2abe-2a6e-4565-be8a-6477e736e204",
   "metadata": {
    "tags": []
   },
   "outputs": [],
   "source": [
    "def get_training_pd1(training, key='mean', test_scaling=False):\n",
    "    \n",
    "    if key=='mean':\n",
    "        key_to_extract = ['p1d_Mpc']\n",
    "    if key=='plus':\n",
    "        key_to_extract = ['p1d_Mpc_plus']\n",
    "    if key=='minus':\n",
    "        key_to_extract = ['p1d_Mpc_minus']\n",
    "        \n",
    "    training_label = [{ key:value for key,value in training.data[i].items() if key in key_to_extract} for i in range(len(training.data))]\n",
    "    training_label = [list(training_label[i].values())[0][1:(Nk+1)].tolist() for i in range(len(training.data))]\n",
    "    training_label = np.array(training_label)\n",
    "\n",
    "    yscalings = np.median(training_label)\n",
    "    #training_label = training_label/yscalings\n",
    "\n",
    "    if test_scaling==True:\n",
    "        training_label = np.log10(training_label / yscalings)\n",
    "    else:\n",
    "        training_label = training_label / yscalings\n",
    "        \n",
    "    training_label = torch.Tensor(training_label)\n",
    "    \n",
    "    return training_label,yscalings"
   ]
  },
  {
   "cell_type": "code",
   "execution_count": 21,
   "id": "bff6069e-c2d0-4867-9a24-976f79f29edb",
   "metadata": {},
   "outputs": [],
   "source": [
    "def get_training_kMpc(training):\n",
    "    key_to_extract = ['k_Mpc']\n",
    "    training_k = [{ key:value for key,value in training.data[i].items() if key in key_to_extract} for i in range(len(training.data))]\n",
    "    training_k = [list(training_k[i].values())[0][1:(Nk+1)].tolist() for i in range(len(training.data))]\n",
    "    training_k = np.array(training_k)[0,:]\n",
    "    training_k = torch.Tensor(training_k)\n",
    "    \n",
    "    return training_k"
   ]
  },
  {
   "cell_type": "code",
   "execution_count": 26,
   "id": "53c02177-ee30-42d1-a814-2ef00c3642b7",
   "metadata": {},
   "outputs": [],
   "source": [
    "def get_training_data(training,paramlims, key='mean', test_scaling=False):\n",
    "    \n",
    "    if key=='mean':\n",
    "        key_to_extract = ['Delta2_p', 'n_p','mF', 'sigT_Mpc', 'gamma', 'kF_Mpc']\n",
    "    elif key=='plus':\n",
    "        key_to_extract = ['Delta2_p', 'n_p','mF_plus', 'sigT_Mpc_plus', 'gamma_plus', 'kF_Mpc_plus']\n",
    "    elif key=='minus':\n",
    "        key_to_extract = ['Delta2_p', 'n_p','mF_minus', 'sigT_Mpc_minus', 'gamma_minus', 'kF_Mpc_minus']\n",
    "\n",
    "    training_data = [{ key:value for key,value in training.data[i].items() if key in key_to_extract} for i in range(len(training.data))]\n",
    "    training_data = [list(training_data[i].values()) for i in range(len(training.data))]\n",
    "    training_data = np.array(training_data)\n",
    "    \n",
    "    print(training_data.shape)\n",
    "    \n",
    "\n",
    "    if test_scaling==True:\n",
    "        training_data = (training_data - paramlims[:,0]) / (paramlims[:,1] - paramlims[:,0]) - 0.5\n",
    "    else:\n",
    "        training_data = (training_data - paramlims[:,0]) / (paramlims[:,1] - paramlims[:,0]) \n",
    "    \n",
    "    training_data = torch.Tensor(training_data)\n",
    "    \n",
    "    return training_data"
   ]
  },
  {
   "cell_type": "code",
   "execution_count": 27,
   "id": "058c0dcd-0901-4fb2-b889-bac7558ddfe4",
   "metadata": {},
   "outputs": [],
   "source": [
    "from lace_manager.emulator import test_simulation\n",
    "basedir_test=\"/LaCE/lace/emulator/sim_suites/Australia20/\"\n",
    "#truth=test_simulation.TestSimulation(basedir=basedir_test,sim_label='diffSeed',z_max=zmax)\n",
    "truth=pd_archive.archivePD(z_max=4.5,nsamples=30, pick_sim='central')\n",
    "truth.average_over_samples(flag=\"all\")\n",
    "zs = [d['z'] for d in truth.data_av_all if d['scale_tau'] == 1] \n",
    "truth = [d for d in truth.data_av_all if d['scale_tau'] == 1] \n",
    "# archive containing all other simulations\n",
    "training=pd_archive.archivePD()\n"
   ]
  },
  {
   "cell_type": "code",
   "execution_count": 28,
   "id": "b4f3bd37-59ba-46ec-a538-b24db97be221",
   "metadata": {},
   "outputs": [],
   "source": [
    "def test_characteristics(p1dscaling, inputscaling, add_plusminus, Lrelu, polylog):\n",
    "\n",
    "    training_data = get_training_data(training,paramlims, key='mean',test_scaling=inputscaling)\n",
    "    training_label, yscalings = get_training_pd1(training, test_scaling = p1dscaling)\n",
    "        \n",
    "    training_k = get_training_kMpc(training)\n",
    "                \n",
    "    data_training = TensorDataset(training_data,training_label)\n",
    "    loader_train = DataLoader(data_training, batch_size=100, shuffle = True)\n",
    "    \n",
    "    initial_weights=torch.load('initial_weights.pt', map_location='cpu')\n",
    "    \n",
    "    if Lrelu == True:\n",
    "        mdnemu = MDNemulator_polyfit(5,5).cuda()\n",
    "    else:\n",
    "        mdnemu = MDNemulator_polyfit_Relu(5,5).cuda()    \n",
    "    mdnemu.load_state_dict(initial_weights)\n",
    "    mdnemu = train_mdn_polyfit(mdnemu, loader_train, training_k, epochs=800, step_size=600, lr0=1e-3, polylog=polylog)#300 250\n",
    "    mdnemu = mdnemu.eval()\n",
    "    \n",
    "    fractional_error, emu_p1ds, true_p1ds = test_othersim(truth, mdnemu, yscalings, p1dscaling, inputscaling, polylog)\n",
    "    \n",
    "    return fractional_error, emu_p1ds, true_p1ds"
   ]
  },
  {
   "cell_type": "code",
   "execution_count": 46,
   "id": "bbe5075e-7be5-4310-8cf2-b6a39e7bf9c9",
   "metadata": {},
   "outputs": [
    {
     "name": "stdout",
     "output_type": "stream",
     "text": [
      "(10230, 6)\n",
      "Mean fractional error: -1.9055098543500077\n",
      "Std fractional error: 7.148749745569881\n"
     ]
    }
   ],
   "source": [
    "fractional_error_null, emu_p1ds_null, true_p1ds_null= test_characteristics(p1dscaling=False, inputscaling=False, add_plusminus=False, Lrelu=False, polylog=False)\n"
   ]
  },
  {
   "cell_type": "code",
   "execution_count": 30,
   "id": "b48c4f52-6314-487c-9964-850b6cf86508",
   "metadata": {},
   "outputs": [
    {
     "name": "stdout",
     "output_type": "stream",
     "text": [
      "(10230, 6)\n",
      "Mean fractional error: 0.9778263962757139\n",
      "Std fractional error: 0.014721733881398327\n"
     ]
    }
   ],
   "source": [
    "fractional_error_polylog, emu_p1ds_polylog, true_p1ds_polylog = test_characteristics(p1dscaling=False, inputscaling=False, add_plusminus=False, Lrelu=False, polylog=True)\n"
   ]
  },
  {
   "cell_type": "code",
   "execution_count": 31,
   "id": "3f9c6307-a7f3-44ed-a8b8-17445ad1378b",
   "metadata": {},
   "outputs": [
    {
     "name": "stdout",
     "output_type": "stream",
     "text": [
      "(10230, 6)\n",
      "Mean fractional error: 1.0030818379586883\n",
      "Std fractional error: 0.006972147780864874\n"
     ]
    }
   ],
   "source": [
    "fractional_error_p1dscaling, emu_p1ds_p1dscaling, true_p1ds_p1dscaling = test_characteristics(p1dscaling=True, inputscaling=False, add_plusminus=False, Lrelu=False, polylog=True)\n"
   ]
  },
  {
   "cell_type": "code",
   "execution_count": 69,
   "id": "275af8a5-c971-46cb-ba48-e667b3e922b6",
   "metadata": {},
   "outputs": [
    {
     "name": "stdout",
     "output_type": "stream",
     "text": [
      "(10230, 6)\n",
      "Mean fractional error: 1.0041623747371609\n",
      "Std fractional error: 0.007549314217830967\n"
     ]
    }
   ],
   "source": [
    "fractional_error_inpscaling, emu_p1ds_inpscaling, true_p1ds_inpscaling = test_characteristics(p1dscaling=False, inputscaling=True, add_plusminus=False, Lrelu=False, polylog=True)\n"
   ]
  },
  {
   "cell_type": "code",
   "execution_count": 27,
   "id": "5cc398b5-e190-4ff0-9a33-711a07caba1a",
   "metadata": {},
   "outputs": [
    {
     "name": "stdout",
     "output_type": "stream",
     "text": [
      "Mean fractional error: 1.0048457377846427\n",
      "Std fractional error: 0.007593110494589896\n"
     ]
    }
   ],
   "source": [
    "fractional_error_plusminus, emu_p1ds_plusminus, true_p1ds_plusminus = test_characteristics(p1dscaling=False, inputscaling=False, add_plusminus=True, Lrelu=False, polylog=True)\n"
   ]
  },
  {
   "cell_type": "code",
   "execution_count": 59,
   "id": "68c6caed-8b8e-4963-a71f-3e54e849c5a5",
   "metadata": {},
   "outputs": [
    {
     "name": "stdout",
     "output_type": "stream",
     "text": [
      "(10230, 6)\n",
      "Mean fractional error: 0.9952462345135736\n",
      "Std fractional error: 0.007176610129576123\n"
     ]
    }
   ],
   "source": [
    "fractional_error_lrelu, emu_p1ds_lrelu, true_p1ds_lrelu = test_characteristics(p1dscaling=False, inputscaling=False, add_plusminus=False, Lrelu=True, polylog=True)\n"
   ]
  },
  {
   "cell_type": "code",
   "execution_count": 49,
   "id": "67d46438-69f7-4a59-be89-460aeea4d83e",
   "metadata": {},
   "outputs": [
    {
     "name": "stdout",
     "output_type": "stream",
     "text": [
      "(10230, 6)\n",
      "Mean fractional error: 0.9966548735771699\n",
      "Std fractional error: 0.005211897137773379\n"
     ]
    }
   ],
   "source": [
    "fractional_error_p1dscal_lr, emu_p1ds_p1dscal_lr, true_p1ds_p1dscal_lr = test_characteristics(p1dscaling=True, inputscaling=False, add_plusminus=False, Lrelu=True, polylog=True)\n"
   ]
  },
  {
   "cell_type": "code",
   "execution_count": 52,
   "id": "7962ee38-4604-4a5d-a538-e609261466e9",
   "metadata": {},
   "outputs": [
    {
     "name": "stdout",
     "output_type": "stream",
     "text": [
      "(10230, 6)\n",
      "Mean fractional error: 0.9867464417538849\n",
      "Std fractional error: 0.004572048238030912\n"
     ]
    }
   ],
   "source": [
    "fractional_error_p1dscal_lr_inpscaling, emu_p1ds_p1dscal_lr_inpscaling, true_p1ds_p1dscal_lr_inpscaling = test_characteristics(p1dscaling=True, inputscaling=True, add_plusminus=False, Lrelu=True, polylog=True)\n"
   ]
  },
  {
   "cell_type": "code",
   "execution_count": 36,
   "id": "df8ff036-092b-420c-b595-61476a93a9c6",
   "metadata": {},
   "outputs": [
    {
     "name": "stdout",
     "output_type": "stream",
     "text": [
      "(10230, 6)\n",
      "Mean fractional error: 1.0055812407287767\n",
      "Std fractional error: 0.007034336138181418\n"
     ]
    }
   ],
   "source": [
    "fractional_error_p1dscal_lr_inpscaling_plusmin, emu_p1ds_p1dscal_lr_inpscaling_plusmin, true_p1ds_p1dscal_lr_inpscaling_plusmin = test_characteristics(p1dscaling=True, inputscaling=True, add_plusminus=True, Lrelu=True, polylog=True)\n"
   ]
  },
  {
   "cell_type": "code",
   "execution_count": 43,
   "id": "166a32c1-3acf-4eeb-92db-c6ab14f589d1",
   "metadata": {},
   "outputs": [
    {
     "data": {
      "text/plain": [
       "1.4721733881398327"
      ]
     },
     "execution_count": 43,
     "metadata": {},
     "output_type": "execute_result"
    }
   ],
   "source": [
    "np.std((fractional_error_polylog-1)*100)"
   ]
  },
  {
   "cell_type": "code",
   "execution_count": 72,
   "id": "357ce790-69f7-4fe1-b349-bf6356e32ac6",
   "metadata": {},
   "outputs": [],
   "source": [
    "labels = [r'$P^\\prime_{\\rm 1D}=\\sum_i \\alpha_i \\cdot k$',r'$P^\\prime_{\\rm 1D}=\\sum_i \\alpha_i \\cdot \\log k$',r'$\\log P^\\prime_{\\rm 1D}=\\sum_i \\alpha_i \\cdot \\log k$',r'$P^\\prime_{\\rm 1D}=\\sum_i \\alpha_i \\cdot \\log k$ + LeakyReLU', r'$P^\\prime_{\\rm 1D}=\\sum_i \\alpha_i \\cdot \\log k$ + Param. shift', r'$\\log P^\\prime_{\\rm 1D}=\\sum_i \\alpha_i \\cdot \\log k$ + LeakyReLU',  r'$\\log P^\\prime_{\\rm 1D}=\\sum_i \\alpha_i \\cdot \\log k$ + LeakyReLU + Param. shift']\n",
    "\n",
    "values = [np.std((fractional_error_null-1)*100),np.std((fractional_error_polylog-1)*100),np.std((fractional_error_p1dscaling-1)*100),np.std((fractional_error_lrelu-1)*100), np.std((fractional_error_inpscaling-1)*100), np.std((fractional_error_p1dscal_lr-1)*100), np.std((fractional_error_p1dscal_lr_inpscaling-1)*100) ]\n",
    "#values = [np.std(fractional_error_null),np.std(fractional_error_polylog),np.std(fractional_error_p1dscaling),np.std(fractional_error_lrelu), np.std(fractional_error_inpscaling), np.std(fractional_error_p1dscal_lr), np.std(fractional_error_p1dscal_lr_inpscaling) ]\n",
    "\n",
    "labels = [r'$P^\\prime_{\\rm 1D}=\\sum_i \\alpha_i \\cdot k_{\\parallel}$','A','A+B','A+C', 'A+D', 'A+B+C',  'A+B+C+D',]\n",
    "\n"
   ]
  },
  {
   "cell_type": "code",
   "execution_count": 73,
   "id": "1d2c518d-4b74-4fb1-9088-67b26b25aeb6",
   "metadata": {},
   "outputs": [
    {
     "data": {
      "image/png": "[encoded data removed]",
      "text/plain": [
       "<Figure size 800x500 with 1 Axes>"
      ]
     },
     "metadata": {},
     "output_type": "display_data"
    }
   ],
   "source": [
    "plt.figure(figsize = (8,5))\n",
    "plt.plot(labels, values, marker = 'x', color = 'crimson', ls = '-', lw = 2)\n",
    "\n",
    "\n",
    "plt.yticks(fontsize = 12)\n",
    "plt.xticks(rotation =20, fontsize = 14)\n",
    "\n",
    "plt.ylabel('Error on P1D emulation [%]', fontsize = 14)\n",
    "\n",
    "plt.axhline(y =1, color = 'black', lw = 1, ls='--')\n",
    "\n",
    "\n",
    "info_text = r'A=$P^\\prime_{\\rm 1D}=\\sum_i \\alpha_i \\cdot \\log k_{\\parallel}$\\nB=$\\log P^\\prime_{\\rm 1D}=\\sum_i \\alpha_i \\cdot \\log k_{\\parallel}$\\nC= LeakyReLU\\nD= Param. space shift'\n",
    "info_text = info_text.replace(r'\\n', '\\n')\n",
    "#info_text = 'A = Polyfit-log\\nB = log(P1D)\\nC = LeakyReLU\\nD = Param. space shift'\n",
    "plt.text(0.63, 0.65, info_text, transform=plt.gca().transAxes, bbox=dict(facecolor='white', alpha=0.5), fontsize = 14)\n",
    "\n",
    "\n",
    "plt.xlim(0,7)\n",
    "#plt.yscale('log')\n",
    "plt.ylim(0.2,1.5)\n",
    "\n",
    "plt.savefig('net_characterisation.pdf', bbox_inches = 'tight')"
   ]
  },
  {
   "cell_type": "code",
   "execution_count": 67,
   "id": "d440788e-6fdf-46bb-8e1f-06972ec85392",
   "metadata": {},
   "outputs": [
    {
     "name": "stdout",
     "output_type": "stream",
     "text": [
      "A=$P^\\prime_{\\rm 1D}=\\sum_i \\alpha_i \\cdot \\log k$\n",
      "B=$\\log P^\\prime_{\\rm 1D}=\\sum_i \\alpha_i \\cdot \\log k$\n",
      "C= LeakyReLU\n",
      "D= Param. space shift\n"
     ]
    }
   ],
   "source": [
    "info_text = r'A=$P^\\prime_{\\rm 1D}=\\sum_i \\alpha_i \\cdot \\log k$\\nB=$\\log P^\\prime_{\\rm 1D}=\\sum_i \\alpha_i \\cdot \\log k$\\nC= LeakyReLU\\nD= Param. space shift'\n",
    "info_text = info_text.replace(r'\\n', '\\n')\n",
    "print(info_text)"
   ]
  },
  {
   "cell_type": "code",
   "execution_count": null,
   "id": "7e0b5c9c-a9ef-4505-9d52-34580ad449ef",
   "metadata": {},
   "outputs": [],
   "source": []
  },
  {
   "cell_type": "code",
   "execution_count": 13,
   "id": "b78207f1-b8a0-4c27-a1dd-51cf65d8a23a",
   "metadata": {},
   "outputs": [],
   "source": [
    "#fractional_error_gp_1axis = np.loadtxt('notebooks_tests/fractional_error_gp.txt').reshape(30,11,32)\n",
    "fractional_error_3axis_all = np.loadtxt('fractional_errors/3_axes_scalings/fractional_error_avgall.txt').reshape(30,11,32) #average axes\n",
    "fractional_error_3axis_axes = np.loadtxt('fractional_errors/3_axes/fractional_error_3axes_axes.txt').reshape(30,11,32) #average axes\n",
    "fractional_error_3axis_phases = np.loadtxt('fractional_errors/3_axes/fractional_error_3axes_phases.txt').reshape(30,11,32) #average axes\n",
    "fractional_error_3axis_axesphases = np.loadtxt('fractional_errors/3_axes/fractional_error_3axes_phasesaxes.txt').reshape(30,11,32) #average axes\n",
    "\n",
    "fractional_error_3axis_axesphases_newresc = np.loadtxt('fractional_errors/3_axes/fractional_error_3axes_newscaling.txt').reshape(30,11,32) #average axes\n",
    "\n",
    "\n",
    "fractional_error_3axis_allnone = np.loadtxt('fractional_errors/3_axes/fractional_error_3axes_allnone.txt').reshape(30,11,32) #average axes\n",
    "\n",
    "\n",
    "fractional_error_3axis_axesphasesnone = np.loadtxt('fractional_errors/3_axes/fractional_error_3axes_phasesaxesnone.txt').reshape(30,11,32) #average axes\n"
   ]
  },
  {
   "cell_type": "code",
   "execution_count": 14,
   "id": "f0832856-3a69-4515-a6f7-2e50f2bb45cc",
   "metadata": {},
   "outputs": [
    {
     "data": {
      "text/plain": [
       "(0.008827779809512992, 0.00997585088244679)"
      ]
     },
     "execution_count": 14,
     "metadata": {},
     "output_type": "execute_result"
    }
   ],
   "source": [
    "sigma68(fractional_error_3axis_axesphases.flatten()), sigma68(fractional_error_3axis_axesphases_newresc.flatten())"
   ]
  },
  {
   "cell_type": "code",
   "execution_count": 15,
   "id": "ec7d0538-a984-4477-af79-870ad55e1a0c",
   "metadata": {},
   "outputs": [],
   "source": [
    "fractional_error_1axis = (fractional_error_1axis -1 )*100\n",
    "#fractional_error_gp_1axis = (fractional_error_gp_1axis-1)*100\n",
    "fractional_error_3axes_1a = (fractional_error_3axes_1a-1)*100\n",
    "fractional_error_1a_3a = (fractional_error_1a_3a-1)*100\n",
    "\n",
    "\n",
    "fractional_error_3axis_all = (fractional_error_3axis_all - 1) *100\n",
    "fractional_error_3axis_axes = (fractional_error_3axis_axes -1 )*100\n",
    "fractional_error_3axis_phases = (fractional_error_3axis_phases -1 )*100\n",
    "fractional_error_3axis_axesphases = (fractional_error_3axis_axesphases -1 )*100\n",
    "fractional_error_3axis_allnone = (fractional_error_3axis_allnone -1 )*100\n",
    "\n",
    "fractional_error_3axis_axesphasesnone = (fractional_error_3axis_axesphasesnone-1)*100"
   ]
  },
  {
   "cell_type": "raw",
   "id": "3c5906b8-c14c-4df2-ae67-a5989eccd18a",
   "metadata": {},
   "source": [
    "samples and training time:\n",
    "    - average over axes: 2871, 89s\n",
    "    - average over phases: 3828 samples, 128s\n",
    "    - average over phases + average over axes, 6699, 197s\n",
    "    - average over phases + average over axes + all individual 12441, 430\n",
    "    - average all + average none, 6699"
   ]
  },
  {
   "cell_type": "markdown",
   "id": "b9bc8855-935a-4e98-b7ee-63610f711e01",
   "metadata": {},
   "source": [
    "labels=['1A', '3A - avg. all','3A - avg. axes', r'3A - avg. phases',r'3A-avg. axes + avg phases', r'3A - avg. all + indep',r'3A - avg. axes + avg. phases + indep.']\n",
    "means = np.array([np.median(fractional_error_1a_3a),np.median(fractional_error_3axis_all),np.median(fractional_error_3axis_axes),np.median(fractional_error_3axis_phases),np.median(fractional_error_3axis_axesphases),np.median(fractional_error_3axis_allnone),np.median(fractional_error_3axis_axesphasesnone)])\n",
    "errs = np.array([sigma68(fractional_error_1a_3a.flatten()),sigma68(fractional_error_3axis_all.flatten()),sigma68(fractional_error_3axis_axes.flatten()),sigma68(fractional_error_3axis_phases.flatten()),sigma68(fractional_error_3axis_axesphases.flatten()),sigma68(fractional_error_3axis_allnone.flatten()),sigma68(fractional_error_3axis_axesphasesnone.flatten())])\n",
    "\n"
   ]
  },
  {
   "cell_type": "code",
   "execution_count": 27,
   "id": "6dded77e-2685-4e04-bf1d-8e8b52991457",
   "metadata": {},
   "outputs": [],
   "source": [
    "labels=['Avg. all','Avg. axes', r'Avg. phases',r'Avg. axes + avg phases', r'Avg. axes + avg. phases + indep.']\n",
    "errs = np.array([sigma68(fractional_error_3axis_all.flatten()),sigma68(fractional_error_3axis_axes.flatten()),sigma68(fractional_error_3axis_phases.flatten()),sigma68(fractional_error_3axis_axesphases.flatten()),sigma68(fractional_error_3axis_axesphasesnone.flatten())])\n"
   ]
  },
  {
   "cell_type": "code",
   "execution_count": 28,
   "id": "ea1029a7-f325-4f32-8310-f913c0503843",
   "metadata": {},
   "outputs": [
    {
     "data": {
      "image/png": "[encoded data removed]",
      "text/plain": [
       "<Figure size 800x500 with 1 Axes>"
      ]
     },
     "metadata": {},
     "output_type": "display_data"
    }
   ],
   "source": [
    "plt.figure(figsize = (8,5))\n",
    "\n",
    "\n",
    "plt.yticks(fontsize = 16)\n",
    "plt.xticks(rotation =20, fontsize = 16)\n",
    "\n",
    "plt.ylabel('Error on P1D emulation [%]', fontsize = 18)\n",
    "\n",
    "plt.axhline(y =1, color = 'black', lw = 1, ls=':')\n",
    "#plt.axhline(y =sigma68(fractional_error_1axis.flatten()), color = 'navy', lw = 1, ls='--', label = 'Train and test on one axis')\n",
    "#plt.axhline(y =sigma68(fractional_error_1a_3a.flatten()), color = 'navy', lw = 1, ls='-', label = 'Train o one axis and test on three axes')\n",
    "\n",
    "\n",
    "plt.plot(labels, errs, marker = 'x', color = 'crimson', ls = '-', lw = 2)\n",
    "\n",
    "\n",
    "\n",
    "\n",
    "\n",
    "\n",
    "#info_text = r'A=$P^\\prime_{\\rm 1D}=\\sum_i \\alpha_i \\cdot \\log k$\\nB=$\\log P^\\prime_{\\rm 1D}=\\sum_i \\alpha_i \\cdot \\log k$\\nC= LeakyReLU\\nD= Param. space shift'\n",
    "#info_text = info_text.replace(r'\\n', '\\n')\n",
    "#info_text = 'A = Polyfit-log\\nB = log(P1D)\\nC = LeakyReLU\\nD = Param. space shift'\n",
    "#plt.text(0.62, 0.57, info_text, transform=plt.gca().transAxes, bbox=dict(facecolor='white', alpha=0.5), fontsize = 14)\n",
    "\n",
    "\n",
    "plt.xlim(0,4.2)\n",
    "#plt.legend(fontsize=12, loc = 6)\n",
    "#plt.yscale('log')\n",
    "\n",
    "\n",
    "plt.savefig('net_characterisation_axes.pdf', bbox_inches = 'tight')"
   ]
  },
  {
   "cell_type": "code",
   "execution_count": null,
   "id": "c6133bed-1646-424e-a85c-715c4ec55834",
   "metadata": {},
   "outputs": [],
   "source": []
  },
  {
   "cell_type": "code",
   "execution_count": null,
   "id": "573c7659-876a-4ac5-9319-c07d4be6fdaa",
   "metadata": {},
   "outputs": [],
   "source": []
  }
 ],
 "metadata": {
  "kernelspec": {
   "display_name": "DESIenv6",
   "language": "python",
   "name": "desienv6"
  },
  "language_info": {
   "codemirror_mode": {
    "name": "ipython",
    "version": 3
   },
   "file_extension": ".py",
   "mimetype": "text/x-python",
   "name": "python",
   "nbconvert_exporter": "python",
   "pygments_lexer": "ipython3",
   "version": "3.10.9"
  }
 },
 "nbformat": 4,
 "nbformat_minor": 5
}

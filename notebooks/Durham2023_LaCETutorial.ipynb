{
 "cells": [
  {
   "cell_type": "markdown",
   "id": "3f09e7ed-deb5-46f6-8887-21015c4af8e4",
   "metadata": {},
   "source": [
    "# THE LaCE EMULATORS WITH GADGET AND NYX SIMULATIONS"
   ]
  },
  {
   "cell_type": "markdown",
   "id": "f142bda5",
   "metadata": {},
   "source": [
    "A new version of the LaCE emulators including Nyx simulations is now available in igmhub/LaCE: https://github.com/igmhub/LaCE\n"
   ]
  },
  {
   "cell_type": "code",
   "execution_count": null,
   "id": "6c9850f6-212c-4fd0-9219-1ba63995b8a4",
   "metadata": {
    "tags": []
   },
   "outputs": [],
   "source": [
    "import os, sys\n",
    "import numpy as np\n",
    "from matplotlib import pyplot as plt"
   ]
  },
  {
   "cell_type": "code",
   "execution_count": null,
   "id": "d4c16357-66d2-45d9-bbd3-55c142eb77c6",
   "metadata": {
    "tags": []
   },
   "outputs": [],
   "source": [
    "# load LaCE-related modules\n",
    "from lace.archive import gadget_archive\n",
    "from lace.archive import nyx_archive\n",
    "from lace.emulator.nn_emulator import NNEmulator\n",
    "from lace.emulator.gp_emulator import GPEmulator\n",
    "from lace.utils import poly_p1d"
   ]
  },
  {
   "cell_type": "markdown",
   "id": "46dc519b-8625-4783-bb54-d3aba6a6abe2",
   "metadata": {},
   "source": [
    "## GENERAL USAGE"
   ]
  },
  {
   "cell_type": "markdown",
   "id": "b5718fa7-88d1-4af8-809f-c6df2eecda23",
   "metadata": {},
   "source": [
    "There are two emulator objects:\n",
    "- GPEmulator(**args)\n",
    "- NNEmulator(**args)\n",
    "\n",
    "And for both, we can call them specifying:\n",
    "- A custom archive that we have externally generated\n",
    "- A training set label (training_set), pointing the emulator to a pre-defined training set.\n",
    "\n",
    "There is also the option of defining a pre-defined emulator with the same configuration as the emulator used in a given publication"
   ]
  },
  {
   "cell_type": "markdown",
   "id": "7aba7fb3-dd2f-41d9-bae2-92463126fa1d",
   "metadata": {},
   "source": [
    "## EXAMPLES"
   ]
  },
  {
   "cell_type": "markdown",
   "id": "cbb061cb-f4f1-4874-84f7-d8ea9eb730fe",
   "metadata": {},
   "source": [
    "### A. HOW TO CREATE AN ARCHIVE"
   ]
  },
  {
   "cell_type": "code",
   "execution_count": null,
   "id": "d5987536-0c55-47eb-bb80-80ee34fb87fa",
   "metadata": {
    "tags": []
   },
   "outputs": [],
   "source": [
    "# Gadget archive with the post-processing using in Pedersen21\n",
    "mpg_arch_P21 = gadget_archive.GadgetArchive(postproc=\"Pedersen21\")"
   ]
  },
  {
   "cell_type": "markdown",
   "id": "97e59fb7-e73e-4a4a-8930-fc7952a29619",
   "metadata": {},
   "source": [
    "In the post-processing in Pedersen21, the P1D is measured along one axis, while in Cabayol23, we measure the P1D along the three axes."
   ]
  },
  {
   "cell_type": "code",
   "execution_count": null,
   "id": "aa682864-0d6f-4c11-9cca-5d9642f0a51c",
   "metadata": {
    "tags": []
   },
   "outputs": [],
   "source": [
    "# Gadget archive with the post-processing using in Cabayol23\n",
    "mpg_arch_C23 = gadget_archive.GadgetArchive(postproc=\"Cabayol23\")"
   ]
  },
  {
   "cell_type": "code",
   "execution_count": null,
   "id": "c22ab98f-dd16-4e28-acb3-81faf15bf08e",
   "metadata": {
    "tags": []
   },
   "outputs": [],
   "source": [
    "# Nyx archive provided by Solene Chabanier (this function takes a while, so you can limit the z range)\n",
    "nyx_arch = nyx_archive.NyxArchive(verbose=False)"
   ]
  },
  {
   "cell_type": "markdown",
   "id": "ec07d441-4f97-4fda-b967-8fcfcbbe073a",
   "metadata": {},
   "source": [
    "### B. HOW TO CREATE AN EMULATOR"
   ]
  },
  {
   "cell_type": "markdown",
   "id": "e8d56c34-5a3b-4240-a0cb-03ebcc631724",
   "metadata": {},
   "source": [
    "When calling an emulator, we can choose the settings, or ask for a pre-defined emulator's configuration.\n",
    "There are three possibilities:\n",
    "\n",
    "    - Pedersen21: Configuration used in Pedersen21. kmax=3, kbin emulator (available for GP).\n",
    "    - Pedersen23: Configuration used in Pedersen23. kmax=3, polyfit emulator (available for GP).\n",
    "    - Cabayol23: Configuration used in Cabayol-Garcia 2023. kmax=4, polyfit emulator (available for NN)."
   ]
  },
  {
   "cell_type": "markdown",
   "id": "427a45e8-609c-4c76-b7dc-db8fb4af1e76",
   "metadata": {},
   "source": [
    "This creates a GP emulator with the default configuration from Pedersen21"
   ]
  },
  {
   "cell_type": "code",
   "execution_count": null,
   "id": "17d9bd01-041e-440b-b227-f77541fa0a8c",
   "metadata": {},
   "outputs": [],
   "source": [
    "gp_emu_P21 = GPEmulator(archive=mpg_arch_P21,emulator_label='Pedersen21')"
   ]
  },
  {
   "cell_type": "markdown",
   "id": "e3bad555",
   "metadata": {},
   "source": [
    "This creates a GP emulator with the default configuration from Pedersen23 (same archive, different settings)"
   ]
  },
  {
   "cell_type": "code",
   "execution_count": null,
   "id": "5ed417a8",
   "metadata": {},
   "outputs": [],
   "source": [
    "gp_emu_P23 = GPEmulator(archive=mpg_arch_P21,emulator_label='Pedersen23')"
   ]
  },
  {
   "cell_type": "markdown",
   "id": "bfdbe1a0",
   "metadata": {},
   "source": [
    "This creates a NN emulator with the default configuration of Cabayol23"
   ]
  },
  {
   "cell_type": "code",
   "execution_count": null,
   "id": "2ddf3431-74cf-49e4-8a97-318291d3a7a8",
   "metadata": {},
   "outputs": [],
   "source": [
    "nn_emu_C23 = NNEmulator(archive=mpg_arch_C23, emulator_label='Cabayol23')"
   ]
  },
  {
   "cell_type": "markdown",
   "id": "8019a0e1",
   "metadata": {},
   "source": [
    "This creates a NN emulator with settings similar to those used in Cabayol23"
   ]
  },
  {
   "cell_type": "code",
   "execution_count": null,
   "id": "d68363ad",
   "metadata": {
    "tags": []
   },
   "outputs": [],
   "source": [
    "fast_training=True\n",
    "if fast_training:\n",
    "    print('Using a sub-optimal training for the Nyx emulator, the results will not be as good as possible!')\n",
    "    # Nyx does not use kF_Mpc, we need to use instead lambda_P\n",
    "    emu_params = [\"Delta2_p\", \"n_p\", \"mF\", \"sigT_Mpc\", \"gamma\", \"lambda_P\"]\n",
    "    # the emulator performance will not be super good here\n",
    "    nn_emu_nyx = NNEmulator(archive=nyx_arch, emu_params=emu_params)\n",
    "else:\n",
    "    # this might take a while to train...\n",
    "    nn_emu_nyx = NNEmulator(archive=nyx_arch, emulator_label='Nyx_v0')"
   ]
  },
  {
   "cell_type": "markdown",
   "id": "c697fca2-396c-47dd-b7dc-0e1b70e92435",
   "metadata": {},
   "source": [
    "### C. POINTING ALSO TO A PRE-DEFINED TRAINING SET"
   ]
  },
  {
   "cell_type": "markdown",
   "id": "38841c85",
   "metadata": {},
   "source": [
    "You can also specify the training set instead of passing an archive. If you want to test this, set load_training=True (it will take some time to run)"
   ]
  },
  {
   "cell_type": "code",
   "execution_count": null,
   "id": "b00aefe6",
   "metadata": {},
   "outputs": [],
   "source": [
    "load_training=False"
   ]
  },
  {
   "cell_type": "code",
   "execution_count": null,
   "id": "f2bb9212-e83d-4a15-8755-aed1e3e75b46",
   "metadata": {},
   "outputs": [],
   "source": [
    "if load_training:\n",
    "    gp_emu_P21 = GPEmulator(training_set='Pedersen21', emulator_label='Pedersen21')"
   ]
  },
  {
   "cell_type": "code",
   "execution_count": null,
   "id": "5a38d603-4422-498e-b4b2-acfe5bd2d2f5",
   "metadata": {},
   "outputs": [],
   "source": [
    "if load_training:\n",
    "    gp_emu_P23 = GPEmulator(training_set='Pedersen21', emulator_label='Pedersen23')"
   ]
  },
  {
   "cell_type": "code",
   "execution_count": null,
   "id": "5070a571-db1a-4ac2-ba98-863b79d4adfc",
   "metadata": {},
   "outputs": [],
   "source": [
    "if load_training:\n",
    "    nn_emu_C23 = NNEmulator(training_set='Cabayol23', emulator_label='Cabayol23')"
   ]
  },
  {
   "cell_type": "code",
   "execution_count": null,
   "id": "1544f271-a5ee-4c34-9cd8-6657b69e8ae5",
   "metadata": {},
   "outputs": [],
   "source": [
    "if load_training:\n",
    "    nn_emu_nyx = NNEmulator(training_set='Nyx23', emulator_label='Nyx_v0')"
   ]
  },
  {
   "cell_type": "markdown",
   "id": "f38bf95c-8909-4603-b19c-b1f9910ef840",
   "metadata": {},
   "source": [
    "### TESTING THE EMULATOR"
   ]
  },
  {
   "cell_type": "markdown",
   "id": "18d69651",
   "metadata": {},
   "source": [
    "One can also ask the archives for a testing set (a simulation not included in the emulator training)"
   ]
  },
  {
   "cell_type": "code",
   "execution_count": null,
   "id": "8331d52c-df75-4ed5-86cd-6c34ac6e3087",
   "metadata": {},
   "outputs": [],
   "source": [
    "mpg_test_P21 = mpg_arch_P21.get_testing_data(sim_label='mpg_central')"
   ]
  },
  {
   "cell_type": "code",
   "execution_count": null,
   "id": "de179aa6",
   "metadata": {
    "tags": []
   },
   "outputs": [],
   "source": [
    "mpg_test_C23 = mpg_arch_C23.get_testing_data(sim_label='mpg_neutrinos')"
   ]
  },
  {
   "cell_type": "code",
   "execution_count": null,
   "id": "3b80b141",
   "metadata": {},
   "outputs": [],
   "source": [
    "nyx_test = nyx_arch.get_testing_data(sim_label='nyx_3')"
   ]
  },
  {
   "cell_type": "code",
   "execution_count": null,
   "id": "f5c0a103",
   "metadata": {
    "tags": []
   },
   "outputs": [],
   "source": [
    "def emulator_vs_true(emulator, test_data, iz=0, plot_ratio=True, smooth_test=True):\n",
    "    \n",
    "    # get true P1D in test data (over a certain k range)\n",
    "    k_Mpc = test_data[iz]['k_Mpc']\n",
    "    test_p1d = test_data[iz]['p1d_Mpc']\n",
    "    \n",
    "    # k range used in plot\n",
    "    mask = (k_Mpc>0) & (k_Mpc<emulator.kmax_Mpc)\n",
    "    k_Mpc = k_Mpc[mask]\n",
    "    test_p1d = test_p1d[mask]\n",
    "\n",
    "    # if smooth_test, use polynomial fit to the test data as truth (as assumed by emulator)\n",
    "    fit_p1d = poly_p1d.PolyP1D(k_Mpc,test_p1d,deg=emulator.ndeg)\n",
    "    test_p1d = fit_p1d.P_Mpc(k_Mpc)\n",
    "\n",
    "    # get emulator parameter values of the test data\n",
    "    model={}\n",
    "    for param in emulator.emu_params:\n",
    "        model[param]=test_data[iz][param]\n",
    "        print(param,model[param])\n",
    "    \n",
    "    # make emulator prediction\n",
    "    emu_p1d = emulator.emulate_p1d_Mpc(model,k_Mpc)\n",
    "\n",
    "    if plot_ratio:\n",
    "        plt.plot(k_Mpc,emu_p1d/test_p1d-1.0)\n",
    "        plt.plot(k_Mpc,k_Mpc*0.0,ls=':',color='gray')\n",
    "        plt.ylabel(r'P1D residuals', fontsize = 14)\n",
    "    else:\n",
    "        plt.plot(k_Mpc,emu_p1d,label='emulated')\n",
    "        plt.plot(k_Mpc,test_p1d,label='true')\n",
    "        plt.legend(fontsize = 14)\n",
    "        plt.ylabel(r'P1D [Mpc]', fontsize = 14)\n",
    "    plt.xscale('log')\n",
    "    plt.xlabel(r'$k$ [1/Mpc]', fontsize = 14)"
   ]
  },
  {
   "cell_type": "code",
   "execution_count": null,
   "id": "b8bcf012",
   "metadata": {},
   "outputs": [],
   "source": [
    "emulator_vs_true(gp_emu_P23,mpg_test_P21,iz=5,plot_ratio=True)"
   ]
  },
  {
   "cell_type": "code",
   "execution_count": null,
   "id": "53e2615b",
   "metadata": {},
   "outputs": [],
   "source": [
    "emulator_vs_true(nn_emu_C23,mpg_test_C23,iz=5,plot_ratio=True)"
   ]
  },
  {
   "cell_type": "code",
   "execution_count": null,
   "id": "4c038b22",
   "metadata": {},
   "outputs": [],
   "source": [
    "emulator_vs_true(nn_emu_nyx,nyx_test,iz=5,plot_ratio=True)"
   ]
  },
  {
   "cell_type": "markdown",
   "id": "a5440417-4d4f-4c40-b953-552518074ba0",
   "metadata": {},
   "source": [
    "## D. EXTENDED EMULATOR"
   ]
  },
  {
   "cell_type": "code",
   "execution_count": null,
   "id": "78b92bf0-3d7f-4775-8d1f-1a28f1a12f1f",
   "metadata": {
    "tags": []
   },
   "outputs": [],
   "source": [
    "nn_emu_C23 = NNEmulator(archive=mpg_arch_C23, kmax_Mpc=8, ndeg=7)"
   ]
  },
  {
   "cell_type": "code",
   "execution_count": null,
   "id": "dd2ceaa2-bd45-4a53-b0e2-38c0a215de50",
   "metadata": {
    "tags": []
   },
   "outputs": [],
   "source": [
    "nn_emu_C23 = NNEmulator(archive=mpg_arch_C23, emulator_label='Cabayol23_extended')"
   ]
  },
  {
   "cell_type": "code",
   "execution_count": null,
   "id": "0c8c7d29-8459-4fe0-9eab-eb2ce5d5df50",
   "metadata": {
    "tags": []
   },
   "outputs": [],
   "source": [
    "emulator_vs_true(nn_emu_C23,mpg_test_C23,iz=5,plot_ratio=True)"
   ]
  },
  {
   "cell_type": "code",
   "execution_count": null,
   "id": "5235d8d8-b2f0-4952-a3b3-c0bff8355e8d",
   "metadata": {
    "tags": []
   },
   "outputs": [],
   "source": [
    "nn_emu_C23.ndeg"
   ]
  },
  {
   "cell_type": "code",
   "execution_count": null,
   "id": "8e1e7e01-7907-4223-83d4-a6cc44a0217a",
   "metadata": {},
   "outputs": [],
   "source": []
  }
 ],
 "metadata": {
  "kernelspec": {
   "display_name": "lace",
   "language": "python",
   "name": "lace"
  },
  "language_info": {
   "codemirror_mode": {
    "name": "ipython",
    "version": 3
   },
   "file_extension": ".py",
   "mimetype": "text/x-python",
   "name": "python",
   "nbconvert_exporter": "python",
   "pygments_lexer": "ipython3",
   "version": "3.11.4"
  }
 },
 "nbformat": 4,
 "nbformat_minor": 5
}

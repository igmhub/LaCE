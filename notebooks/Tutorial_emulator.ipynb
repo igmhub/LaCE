{
 "cells": [
  {
   "cell_type": "code",
   "execution_count": 1,
   "id": "f038e1e1-66d8-4a0e-ac37-aa1d6ba9ee7f",
   "metadata": {},
   "outputs": [],
   "source": [
    "import os\n",
    "import numpy as np\n",
    "env_var = os.environ\n",
    "os.environ[\"LACE_REPO\"] = \"/nfs/pic.es/user/l/lcabayol/DESI/LaCE\"\n",
    "os.environ[\"LACE_MANAGER_REPO\"] = \"/nfs/pic.es/user/l/lcabayol/DESI/LaCE_manager\""
   ]
  },
  {
   "cell_type": "code",
   "execution_count": 2,
   "id": "dcd4e261-02e6-4dd0-80f3-4decc738c1ce",
   "metadata": {},
   "outputs": [
    {
     "name": "stderr",
     "output_type": "stream",
     "text": [
      "/data/astro/scratch/lcabayol/anaconda3/envs/DESIenv6/lib/python3.10/site-packages/tqdm/auto.py:21: TqdmWarning: IProgress not found. Please update jupyter and ipywidgets. See https://ipywidgets.readthedocs.io/en/stable/user_install.html\n",
      "  from .autonotebook import tqdm as notebook_tqdm\n"
     ]
    }
   ],
   "source": [
    "from lace.emulator_nn.network import MDNemulator_polyfit\n",
    "from lace.emulator.nn_emulator import NNEmulator\n",
    "from lace.emulator.gp_emulator import GPEmulator\n",
    "\n",
    "from lace.emulator.emulator import P1Demulator\n",
    "\n",
    "from lace.emulator.test_simulation_nn import test_sim\n",
    "from lace.emulator import pnd_archive"
   ]
  },
  {
   "cell_type": "code",
   "execution_count": 3,
   "id": "381390f9-fa9f-4920-aa78-708e7186b14d",
   "metadata": {},
   "outputs": [],
   "source": [
    "# our modules\n",
    "from lace.cosmo import fit_linP\n",
    "from lace.emulator import poly_p1d\n"
   ]
  },
  {
   "cell_type": "code",
   "execution_count": 4,
   "id": "94fcc325-822b-4fba-a94f-ce8558349aee",
   "metadata": {},
   "outputs": [],
   "source": [
    "kmax_Mpc=4\n",
    "ndeg=5\n",
    "Nsim=30\n",
    "\n",
    "emuparams = ['Delta2_p', 'n_p','mF', 'sigT_Mpc', 'gamma', 'kF_Mpc']\n"
   ]
  },
  {
   "cell_type": "markdown",
   "id": "550ac1a7-3749-4e8d-84bc-c45feba8799e",
   "metadata": {},
   "source": [
    "# Neural Network"
   ]
  },
  {
   "cell_type": "markdown",
   "id": "80c289b7-dfac-40f0-af90-d140d090c6db",
   "metadata": {},
   "source": [
    "By default, the NNemulator is trained with the following parameters:ç\n",
    "- zmax=4.5\n",
    "- Nsim=30 \n",
    "- nepochs=100\n",
    "- step_size=75\n",
    "- kmax_Mpc=4\n",
    "- ndeg=5. For the extended version (kmax_Mpc=8), set to 7\n",
    "- postprocessing='768'. To train with the 1D post-processing change to '500'\n",
    "\n",
    "- initial_weights=True. Always starts from the same iniial parameters. These were selected randomly. Set to False if random initialization is required."
   ]
  },
  {
   "cell_type": "markdown",
   "id": "86836a3c-5710-4b78-a341-70f98c323656",
   "metadata": {
    "tags": []
   },
   "source": [
    "## Train the neural network from scratch from predefined weights and save it in a specified path"
   ]
  },
  {
   "cell_type": "code",
   "execution_count": 7,
   "id": "d2b26121-db9d-45da-8ea0-f14c8a0721ee",
   "metadata": {
    "tags": []
   },
   "outputs": [
    {
     "name": "stdout",
     "output_type": "stream",
     "text": [
      "start the training of the emulator\n",
      "Training network on 11550\n",
      "Emualtor trained in 106.13030099868774 seconds\n"
     ]
    }
   ],
   "source": [
    "emulator = NNEmulator(emuparams,list_archives=['data_input_axes','data_input_phases'], ndeg=5, save_path=f'/nfs/pic.es/user/l/lcabayol/DESI/LaCE/lace/emulator/NNmodels/test.pt')\n",
    "\n",
    "\n",
    "\n",
    "\n"
   ]
  },
  {
   "cell_type": "code",
   "execution_count": 8,
   "id": "1b3b0ef1-77ad-4325-85d0-409fee7a44d3",
   "metadata": {},
   "outputs": [
    {
     "name": "stdout",
     "output_type": "stream",
     "text": [
      "42\n",
      "Mean fractional error: 0.9986795980826184\n",
      "Std fractional error: 0.004550563911577725\n"
     ]
    }
   ],
   "source": [
    "truth=pnd_archive.archivePND(z_max=4.5,nsamples=30, pick_sim='central')\n",
    "truth.average_over_samples(flag=\"all\")\n",
    "zs = [d['z'] for d in truth.data_av_all if d['scale_tau'] == 1] \n",
    "truth = [d for d in truth.data_av_all if d['scale_tau'] == 1] \n",
    "\n",
    "fractional_error, emu_p1d, true_p1d, emu_p1derr = test_sim(emulator.emulator, truth, emulator.emuparams, emulator.paramLims, emulator.device, emulator.yscalings,  kmax_Mpc_test=kmax_Mpc, ndeg=ndeg )\n"
   ]
  },
  {
   "cell_type": "markdown",
   "id": "7eee8d3f-d7a0-4a88-a6b0-f27ceb603e49",
   "metadata": {},
   "source": [
    "## Load a trained emulator"
   ]
  },
  {
   "cell_type": "code",
   "execution_count": 5,
   "id": "49fdd8b9-28f3-4a2e-9b3a-3bb19ad7e430",
   "metadata": {},
   "outputs": [
    {
     "name": "stdout",
     "output_type": "stream",
     "text": [
      "Model loaded. No training needed\n"
     ]
    }
   ],
   "source": [
    "emulator = NNEmulator(emuparams, model_path=f'NNmodels/NNEmulator_LaCEHC.pt', train=False)\n",
    "\n",
    "\n"
   ]
  },
  {
   "cell_type": "code",
   "execution_count": 6,
   "id": "5fc9d6f3-1671-4b2a-839a-b48a9c4c5178",
   "metadata": {},
   "outputs": [
    {
     "name": "stdout",
     "output_type": "stream",
     "text": [
      "42\n",
      "Mean fractional error: 0.9993127267123578\n",
      "Std fractional error: 0.004228885048319786\n"
     ]
    }
   ],
   "source": [
    "truth=pnd_archive.archivePND(z_max=4.5,nsamples=30, pick_sim='central')\n",
    "truth.average_over_samples(flag=\"all\")\n",
    "zs = [d['z'] for d in truth.data_av_all if d['scale_tau'] == 1] \n",
    "truth = [d for d in truth.data_av_all if d['scale_tau'] == 1] \n",
    "\n",
    "fractional_error, emu_p1d, true_p1d, emu_p1derr = test_sim(emulator.emulator, truth, emulator.emuparams, emulator.paramLims, emulator.device, emulator.yscalings,  kmax_Mpc_test=kmax_Mpc, ndeg=ndeg )\n"
   ]
  },
  {
   "cell_type": "markdown",
   "id": "ace75288-7cce-4400-8c13-c5478342af3e",
   "metadata": {
    "tags": []
   },
   "source": [
    "# Gaussian Process "
   ]
  },
  {
   "cell_type": "markdown",
   "id": "ae4edd25-cd2c-4eda-92d4-a6f54043cc9c",
   "metadata": {},
   "source": [
    "- It is trained on 330 P1D. By default, it does not use optical-depth rescalings\n",
    "- The default options for $k$, $z$, and 'deg' are the same as for the NN emulator"
   ]
  },
  {
   "cell_type": "code",
   "execution_count": 7,
   "id": "a8b79b0b-a691-4e83-ac6c-4b6479949dab",
   "metadata": {},
   "outputs": [
    {
     "name": "stdout",
     "output_type": "stream",
     "text": [
      "Training GP on 330 points\n",
      "GPs optimised in 0.38 seconds\n"
     ]
    }
   ],
   "source": [
    "emulator = GPEmulator()"
   ]
  },
  {
   "cell_type": "code",
   "execution_count": 8,
   "id": "a7530c7f-eda4-4dcb-92de-ade87dcc73e6",
   "metadata": {},
   "outputs": [
    {
     "name": "stdout",
     "output_type": "stream",
     "text": [
      "mean fractional error: 0.9909920710299086\n",
      "std fractional error: 0.004361883605622311\n"
     ]
    }
   ],
   "source": [
    "truth=pnd_archive.archivePND(z_max=4.5, pick_sim='central')\n",
    "truth.average_over_samples(flag=\"all\")\n",
    "truth = [d for d in truth.data_av_all if d['scale_tau'] == 1] \n",
    "\n",
    "for aa,item in enumerate(truth):\n",
    "    # figure out redshift for this entry\n",
    "    z=item[\"z\"]\n",
    "\n",
    "    true_k=item[\"k_Mpc\"]\n",
    "    k_mask=(true_k<kmax_Mpc) & (true_k>0)\n",
    "    true_p1d=item[\"p1d_Mpc\"][k_mask]\n",
    "    coeff_p1d = poly_p1d.PolyP1D(true_k[k_mask],true_p1d,kmin_Mpc=1.e-3,kmax_Mpc=emulator.kmax_Mpc,deg=emulator.ndeg).lnP_fit\n",
    "    poly=np.poly1d(coeff_p1d)\n",
    "    true_p1d_poly =np.exp(poly(np.log(true_k[k_mask])))\n",
    "\n",
    "    # true p1d (some sims have an extra k bin, so we need to define mask again)\n",
    "    true_k=item[\"k_Mpc\"]\n",
    "    k_mask=(true_k<kmax_Mpc) & (true_k>0)\n",
    "    true_p1d=item[\"p1d_Mpc\"][k_mask]\n",
    "    assert len(true_p1d)==(emulator.k_bin -1)\n",
    "\n",
    "\n",
    "    # for each entry, figure emulator parameter describing it (labels)\n",
    "    emu_call={}\n",
    "    for bb,param in enumerate(emulator.paramList):\n",
    "        emu_call[param]=item[param]\n",
    "\n",
    "    # ask emulator to emulate P1D (and its uncertainty)\n",
    "    emu_p1d,emu_err=emulator.emulate_p1d_Mpc(emu_call,emulator.training_k_bins,return_covar=True)\n",
    "    fractional_errors_gp = emu_p1d/true_p1d_poly\n",
    "print(f'mean fractional error: {np.mean(fractional_errors_gp)}')\n",
    "print(f'std fractional error: {np.std(fractional_errors_gp)}')"
   ]
  },
  {
   "cell_type": "markdown",
   "id": "f04c2840-cf60-4321-a37c-93c5e849b97f",
   "metadata": {},
   "source": [
    "## Gaussian Process - version in Pedersen et al 2023"
   ]
  },
  {
   "cell_type": "code",
   "execution_count": 5,
   "id": "ce9c9158-e8e0-45e4-9283-e6be6005bf53",
   "metadata": {},
   "outputs": [
    {
     "name": "stderr",
     "output_type": "stream",
     "text": [
      " /data/astro/scratch/lcabayol/anaconda3/envs/DESIenv6/lib/python3.10/site-packages/paramz/parameterized.py:61: RuntimeWarning:Don't forget to initialize by self.initialize_parameter()!\n"
     ]
    },
    {
     "name": "stdout",
     "output_type": "stream",
     "text": [
      "Training GP on 330 points\n",
      "GPs optimised in 0.49 seconds\n"
     ]
    }
   ],
   "source": [
    "emulator = GPEmulator(postprocessing='500')"
   ]
  },
  {
   "cell_type": "markdown",
   "id": "5114e03b-6195-43dd-a2cf-6ff28a55042b",
   "metadata": {},
   "source": [
    "# MODULE COMBIING NN AND GP EMULATORS"
   ]
  },
  {
   "cell_type": "markdown",
   "id": "9df3b4a5-5ee6-4ddf-97db-f947f594eb95",
   "metadata": {},
   "source": [
    "## Default NN emulator training the emualtor from scrath and not saving it"
   ]
  },
  {
   "cell_type": "code",
   "execution_count": 9,
   "id": "42f1a9f7-ff14-4afe-9fc6-e6eaee5cfb5b",
   "metadata": {},
   "outputs": [
    {
     "name": "stdout",
     "output_type": "stream",
     "text": [
      "start the training of the emulator\n",
      "Training network on 11550\n",
      "Emualtor trained in 97.27713680267334 seconds\n"
     ]
    },
    {
     "data": {
      "text/plain": [
       "<lace.emulator.emulator.P1Demulator at 0x2ac94ce4d7b0>"
      ]
     },
     "execution_count": 9,
     "metadata": {},
     "output_type": "execute_result"
    }
   ],
   "source": [
    "P1Demulator(emu_algorithm='NN')"
   ]
  },
  {
   "cell_type": "markdown",
   "id": "9cf2292a-01e0-4749-b416-6509b2c38fe0",
   "metadata": {},
   "source": [
    "## Default GP emulator training the emualtor from scrath and not saving it"
   ]
  },
  {
   "cell_type": "code",
   "execution_count": 10,
   "id": "5a64257f-1738-434f-b4d3-015d0116cd9e",
   "metadata": {},
   "outputs": [
    {
     "name": "stdout",
     "output_type": "stream",
     "text": [
      "Training GP on 330 points\n",
      "GPs optimised in 0.40 seconds\n"
     ]
    },
    {
     "data": {
      "text/plain": [
       "<lace.emulator.emulator.P1Demulator at 0x2ac94cf990f0>"
      ]
     },
     "execution_count": 10,
     "metadata": {},
     "output_type": "execute_result"
    }
   ],
   "source": [
    "P1Demulator(emu_algorithm='GP', drop_rescalings=False)"
   ]
  },
  {
   "cell_type": "code",
   "execution_count": null,
   "id": "7ec5bfd0-8afd-4251-a634-47cb5d5d0998",
   "metadata": {},
   "outputs": [],
   "source": []
  }
 ],
 "metadata": {
  "kernelspec": {
   "display_name": "DESIenv6",
   "language": "python",
   "name": "desienv6"
  },
  "language_info": {
   "codemirror_mode": {
    "name": "ipython",
    "version": 3
   },
   "file_extension": ".py",
   "mimetype": "text/x-python",
   "name": "python",
   "nbconvert_exporter": "python",
   "pygments_lexer": "ipython3",
   "version": "3.10.9"
  }
 },
 "nbformat": 4,
 "nbformat_minor": 5
}

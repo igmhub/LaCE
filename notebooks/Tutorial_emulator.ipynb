{
 "cells": [
  {
   "cell_type": "code",
   "execution_count": 1,
   "id": "f038e1e1-66d8-4a0e-ac37-aa1d6ba9ee7f",
   "metadata": {},
   "outputs": [],
   "source": [
    "import os\n",
    "import numpy as np\n",
    "env_var = os.environ\n",
    "os.environ[\"LACE_REPO\"] = \"/nfs/pic.es/user/l/lcabayol/DESI/LaCE\"\n",
    "os.environ[\"LACE_MANAGER_REPO\"] = \"/nfs/pic.es/user/l/lcabayol/DESI/LaCE_manager\""
   ]
  },
  {
   "cell_type": "code",
   "execution_count": 2,
   "id": "4fd24fcc-f12f-413d-9618-bb6042893dcd",
   "metadata": {},
   "outputs": [],
   "source": [
    "sys.path.append('emulator.py')"
   ]
  },
  {
   "cell_type": "code",
   "execution_count": 3,
   "id": "dcd4e261-02e6-4dd0-80f3-4decc738c1ce",
   "metadata": {},
   "outputs": [
    {
     "name": "stderr",
     "output_type": "stream",
     "text": [
      " /data/astro/scratch/lcabayol/anaconda3/envs/DESIenv6/lib/python3.10/site-packages/lace-1.0.1-py3.10.egg/lace/emulator/pd_archive.py:210: SyntaxWarning:\"is\" with a literal. Did you mean \"==\"?\n",
      " /data/astro/scratch/lcabayol/anaconda3/envs/DESIenv6/lib/python3.10/site-packages/lace-1.0.1-py3.10.egg/lace/emulator/pd_archive.py:210: SyntaxWarning:\"is\" with a literal. Did you mean \"==\"?\n",
      " /data/astro/scratch/lcabayol/anaconda3/envs/DESIenv6/lib/python3.10/site-packages/tqdm/auto.py:21: TqdmWarning:IProgress not found. Please update jupyter and ipywidgets. See https://ipywidgets.readthedocs.io/en/stable/user_install.html\n"
     ]
    }
   ],
   "source": [
    "from emulator import P1Demulator\n",
    "from lace.emulator import pd_archive\n",
    "from lace.emulator.test_simulation_nn import test_sim\n"
   ]
  },
  {
   "cell_type": "code",
   "execution_count": 4,
   "id": "381390f9-fa9f-4920-aa78-708e7186b14d",
   "metadata": {},
   "outputs": [],
   "source": [
    "# our modules\n",
    "from lace.cosmo import fit_linP\n",
    "from lace.emulator import poly_p1d\n"
   ]
  },
  {
   "cell_type": "code",
   "execution_count": 5,
   "id": "94fcc325-822b-4fba-a94f-ce8558349aee",
   "metadata": {},
   "outputs": [],
   "source": [
    "kmax_Mpc=4\n",
    "ndeg=5"
   ]
  },
  {
   "cell_type": "markdown",
   "id": "550ac1a7-3749-4e8d-84bc-c45feba8799e",
   "metadata": {},
   "source": [
    "## Neural Network"
   ]
  },
  {
   "cell_type": "code",
   "execution_count": 10,
   "id": "d2b26121-db9d-45da-8ea0-f14c8a0721ee",
   "metadata": {
    "tags": []
   },
   "outputs": [
    {
     "name": "stdout",
     "output_type": "stream",
     "text": [
      "start the training of the emulator\n",
      "Training network on 11550\n",
      "Emualtor trained in 107.70529174804688 seconds\n"
     ]
    }
   ],
   "source": [
    "emulator = P1Demulator(save_path=f'/nfs/pic.es/user/l/lcabayol/DESI/LaCE/lace/emulator/NNmodels/NNEmulator_LaCEHC.pt')"
   ]
  },
  {
   "cell_type": "code",
   "execution_count": 11,
   "id": "1b3b0ef1-77ad-4325-85d0-409fee7a44d3",
   "metadata": {},
   "outputs": [
    {
     "name": "stdout",
     "output_type": "stream",
     "text": [
      "42\n",
      "Mean fractional error: 0.9948371740004323\n",
      "Std fractional error: 0.004675616305180939\n"
     ]
    }
   ],
   "source": [
    "truth=pd_archive.archivePD(z_max=4.5,nsamples=30, pick_sim='central')\n",
    "truth.average_over_samples(flag=\"all\")\n",
    "zs = [d['z'] for d in truth.data_av_all if d['scale_tau'] == 1] \n",
    "truth = [d for d in truth.data_av_all if d['scale_tau'] == 1] \n",
    "\n",
    "fractional_error, emu_p1d, true_p1d, emu_p1derr = test_sim(emulator.emulator.emulator, truth, emulator.emulator.emuparams, emulator.emulator.paramLims, emulator.emulator.device, emulator.emulator.yscalings,  kmax_Mpc_test=kmax_Mpc, ndeg=ndeg )\n"
   ]
  },
  {
   "cell_type": "markdown",
   "id": "ace75288-7cce-4400-8c13-c5478342af3e",
   "metadata": {},
   "source": [
    "## Gaussian Process - New postprocessing"
   ]
  },
  {
   "cell_type": "code",
   "execution_count": 6,
   "id": "a8b79b0b-a691-4e83-ac6c-4b6479949dab",
   "metadata": {},
   "outputs": [
    {
     "name": "stderr",
     "output_type": "stream",
     "text": [
      "\n",
      "KeyboardInterrupt\n",
      "\n"
     ]
    }
   ],
   "source": [
    "emulator = P1Demulator(emu_algorithm='GP',  list_archives=['data_av_all'])"
   ]
  },
  {
   "cell_type": "code",
   "execution_count": 9,
   "id": "a7530c7f-eda4-4dcb-92de-ade87dcc73e6",
   "metadata": {},
   "outputs": [
    {
     "name": "stdout",
     "output_type": "stream",
     "text": [
      "mean fractional error: 0.9909885143284279\n",
      "std fractional error: 0.004350958265193714\n"
     ]
    }
   ],
   "source": [
    "truth=pd_archive.archivePD(z_max=4.5, pick_sim='central')\n",
    "truth.average_over_samples(flag=\"all\")\n",
    "truth = [d for d in truth.data_av_all if d['scale_tau'] == 1] \n",
    "\n",
    "for aa,item in enumerate(truth):\n",
    "    # figure out redshift for this entry\n",
    "    z=item[\"z\"]\n",
    "\n",
    "    true_k=item[\"k_Mpc\"]\n",
    "    k_mask=(true_k<kmax_Mpc) & (true_k>0)\n",
    "    true_p1d=item[\"p1d_Mpc\"][k_mask]\n",
    "    coeff_p1d = poly_p1d.PolyP1D(true_k[k_mask],true_p1d,kmin_Mpc=1.e-3,kmax_Mpc=emulator.emulator.kmax_Mpc,deg=emulator.emulator.ndeg).lnP_fit\n",
    "    poly=np.poly1d(coeff_p1d)\n",
    "    true_p1d_poly =np.exp(poly(np.log(true_k[k_mask])))\n",
    "\n",
    "    # true p1d (some sims have an extra k bin, so we need to define mask again)\n",
    "    true_k=item[\"k_Mpc\"]\n",
    "    k_mask=(true_k<kmax_Mpc) & (true_k>0)\n",
    "    true_p1d=item[\"p1d_Mpc\"][k_mask]\n",
    "    assert len(true_p1d)==(emulator.emulator.k_bin-1)\n",
    "\n",
    "\n",
    "    # for each entry, figure emulator parameter describing it (labels)\n",
    "    emu_call={}\n",
    "    for bb,param in enumerate(emulator.emulator.paramList):\n",
    "        emu_call[param]=item[param]\n",
    "\n",
    "    # ask emulator to emulate P1D (and its uncertainty)\n",
    "    emu_p1d,emu_err=emulator.emulator.emulate_p1d_Mpc(emu_call,emulator.emulator.training_k_bins,return_covar=True)\n",
    "    fractional_errors_gp = emu_p1d/true_p1d_poly\n",
    "print(f'mean fractional error: {np.mean(fractional_errors_gp)}')\n",
    "print(f'std fractional error: {np.std(fractional_errors_gp)}')"
   ]
  },
  {
   "cell_type": "markdown",
   "id": "f04c2840-cf60-4321-a37c-93c5e849b97f",
   "metadata": {},
   "source": [
    "## Gaussian Process - version in Pedersen et al 2023"
   ]
  },
  {
   "cell_type": "code",
   "execution_count": null,
   "id": "ce9c9158-e8e0-45e4-9283-e6be6005bf53",
   "metadata": {},
   "outputs": [],
   "source": [
    "emulator = P1Demulator(postprocessing='500',emu_algorithm='GP',  list_archives=['data_av_all'])"
   ]
  }
 ],
 "metadata": {
  "kernelspec": {
   "display_name": "DESIenv6",
   "language": "python",
   "name": "desienv6"
  },
  "language_info": {
   "codemirror_mode": {
    "name": "ipython",
    "version": 3
   },
   "file_extension": ".py",
   "mimetype": "text/x-python",
   "name": "python",
   "nbconvert_exporter": "python",
   "pygments_lexer": "ipython3",
   "version": "3.10.9"
  }
 },
 "nbformat": 4,
 "nbformat_minor": 5
}
